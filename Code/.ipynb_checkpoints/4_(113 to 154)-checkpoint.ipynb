{
 "cells": [
  {
   "cell_type": "code",
   "execution_count": 1,
   "id": "5b274359",
   "metadata": {},
   "outputs": [],
   "source": [
    "import numpy as np \n",
    "import pandas as pd\n",
    "import matplotlib as mpl\n",
    "import matplotlib.pyplot as plt\n",
    "%matplotlib inline"
   ]
  },
  {
   "cell_type": "markdown",
   "id": "ee69e13e",
   "metadata": {},
   "source": [
    "## linear regression"
   ]
  },
  {
   "cell_type": "code",
   "execution_count": 2,
   "id": "5a0644e8",
   "metadata": {},
   "outputs": [],
   "source": [
    "# In practice, it is simpler to minimize the Mean Square Error (MSE)\n",
    "# than the RMSE, and it leads to the same result (because the value that minimizes a\n",
    "# function also minimizes its square root)."
   ]
  },
  {
   "cell_type": "code",
   "execution_count": 3,
   "id": "48dbc07a",
   "metadata": {},
   "outputs": [],
   "source": [
    "# Mse cost function of a linear regression model :\n",
    "#     MSE(X, hO) = 1/m * (O.T * X - y)^2\n",
    "# yk.."
   ]
  },
  {
   "cell_type": "code",
   "execution_count": 4,
   "id": "9ae2e3f9",
   "metadata": {},
   "outputs": [],
   "source": [
    "# the normal equatoin :\n",
    "# O = (X.T * X)^-1 * X.T * y\n",
    "# yk.."
   ]
  },
  {
   "cell_type": "code",
   "execution_count": 5,
   "id": "5be2603a",
   "metadata": {},
   "outputs": [
    {
     "data": {
      "text/plain": [
       "((100, 1), (100, 1))"
      ]
     },
     "execution_count": 5,
     "metadata": {},
     "output_type": "execute_result"
    }
   ],
   "source": [
    "# generating some linear data\n",
    "X = 2 * np.random.rand(100, 1)\n",
    "y = 4 + 3 * X + np.random.randn(100, 1)\n",
    "X.shape, y.shape"
   ]
  },
  {
   "cell_type": "code",
   "execution_count": 6,
   "id": "9cc44e83",
   "metadata": {},
   "outputs": [
    {
     "data": {
      "text/plain": [
       "((100, 2),\n",
       " (2, 1),\n",
       " array([[3.91812345],\n",
       "        [3.12098084]]))"
      ]
     },
     "execution_count": 6,
     "metadata": {},
     "output_type": "execute_result"
    }
   ],
   "source": [
    "# Now let’s compute θ using the Normal Equation. We will use the inv() function from\n",
    "# NumPy’s Linear Algebra module (np.linalg) to compute the inverse of a matrix, and\n",
    "# the dot() method for matrix multiplication: \n",
    "\n",
    "X_b = np.c_[np.ones((100, 1)), X] # add x0 = 1 to each instance\n",
    "theta_best = np.linalg.inv(X_b.T.dot(X_b)).dot(X_b.T).dot(y)\n",
    "X_b.shape, theta_best.shape, theta_best"
   ]
  },
  {
   "cell_type": "code",
   "execution_count": 7,
   "id": "7a4e4b19",
   "metadata": {},
   "outputs": [
    {
     "data": {
      "text/plain": [
       "array([[3.91812345],\n",
       "       [3.12098084]])"
      ]
     },
     "execution_count": 7,
     "metadata": {},
     "output_type": "execute_result"
    }
   ],
   "source": [
    "# The actual function that we used to generate the data is y = 4 + 3x1 + Gaussian noise.\n",
    "# Let’s see what the equation found:\n",
    "theta_best\n",
    "# We would have hoped for θ0 = 4 and θ1 = 3 instead of θ0 = 4.215 and θ1 = 2.770. Close\n",
    "# enough, but the noise made it impossible to recover the exact parameters of the original\n",
    "# function."
   ]
  },
  {
   "cell_type": "code",
   "execution_count": 8,
   "id": "27ef0f20",
   "metadata": {},
   "outputs": [
    {
     "data": {
      "text/plain": [
       "(array([[ 3.91812345],\n",
       "        [10.16008513]]),\n",
       " array([[0],\n",
       "        [2]]),\n",
       " array([[1., 0.],\n",
       "        [1., 2.]]))"
      ]
     },
     "execution_count": 8,
     "metadata": {},
     "output_type": "execute_result"
    }
   ],
   "source": [
    "# Now you can make predictions using θ:\n",
    "X_new = np.array([[0], [2]])\n",
    "X_new_b = np.c_[np.ones((2, 1)), X_new] # add x0 = 1 to each instance\n",
    "y_predict = X_new_b.dot(theta_best)\n",
    "y_predict, X_new, X_new_b"
   ]
  },
  {
   "cell_type": "code",
   "execution_count": 9,
   "id": "f4da4165",
   "metadata": {},
   "outputs": [],
   "source": [
    "# explanation... of all above here\n",
    "\n",
    "# first we made X and y,, i.e. points. as u see below \n",
    "# as you know the equation for linear regression i.e. y=(theta0) + (theta1)x\n",
    "# so we used normal equation to calculate theta.. ok fine till now\n",
    "# then X_new are the points on which we wanna calculate the prediction .. i.e. on points 0 and 2\n",
    "# so we just gotta multiply these with theta but,,,, we also gotta add 1 so we can multiply it with theta0\n",
    "# then new matrix X_new_b is same as X_new but just with extra 1 for theta0\n",
    "# then we predict y_predict by multiplying these 2.\n",
    "# and at end we just plot these..\n"
   ]
  },
  {
   "cell_type": "code",
   "execution_count": 10,
   "id": "538399e0",
   "metadata": {},
   "outputs": [
    {
     "data": {
      "image/png": "[encoded data removed]",
      "text/plain": [
       "<Figure size 432x288 with 1 Axes>"
      ]
     },
     "metadata": {
      "needs_background": "light"
     },
     "output_type": "display_data"
    }
   ],
   "source": [
    "plt.plot(X_new, y_predict, \"r-\")\n",
    "plt.plot(X, y, \"b.\")\n",
    "plt.axis([0, 2, 0, 15])\n",
    "plt.show()"
   ]
  },
  {
   "cell_type": "markdown",
   "id": "80d9802f",
   "metadata": {},
   "source": [
    "## performing linear regression using scikit-learn"
   ]
  },
  {
   "cell_type": "code",
   "execution_count": 11,
   "id": "d942e306",
   "metadata": {},
   "outputs": [
    {
     "data": {
      "text/plain": [
       "(array([3.91812345]), array([[3.12098084]]))"
      ]
     },
     "execution_count": 11,
     "metadata": {},
     "output_type": "execute_result"
    }
   ],
   "source": [
    "from sklearn.linear_model import LinearRegression\n",
    "lin_reg = LinearRegression()\n",
    "lin_reg.fit(X, y)\n",
    "lin_reg.intercept_, lin_reg.coef_"
   ]
  },
  {
   "cell_type": "code",
   "execution_count": 12,
   "id": "32fcf342",
   "metadata": {},
   "outputs": [
    {
     "data": {
      "text/plain": [
       "(array([[3.91812345]]), array([[10.16008513]]))"
      ]
     },
     "execution_count": 12,
     "metadata": {},
     "output_type": "execute_result"
    }
   ],
   "source": [
    "# data for plotting line (prediction)\n",
    "X_predict_1 = lin_reg.predict([[0]])\n",
    "X_predict_2 = lin_reg.predict([[2]])\n",
    "X_predict_1, X_predict_2"
   ]
  },
  {
   "cell_type": "code",
   "execution_count": 13,
   "id": "3a4c59da",
   "metadata": {},
   "outputs": [
    {
     "data": {
      "text/plain": [
       "[<matplotlib.lines.Line2D at 0x1d64468b8e0>]"
      ]
     },
     "execution_count": 13,
     "metadata": {},
     "output_type": "execute_result"
    },
    {
     "data": {
      "image/png": "[encoded data removed]",
      "text/plain": [
       "<Figure size 432x288 with 1 Axes>"
      ]
     },
     "metadata": {
      "needs_background": "light"
     },
     "output_type": "display_data"
    }
   ],
   "source": [
    "# this is the data\n",
    "# this might not be the best way to do this,, but for now.. it's ok\n",
    "plt.plot([0,2], [3.9, 9.9], \"r-\")\n",
    "# we need 2 points to plot line.. so . \n",
    "plt.plot(X, y, \"b.\") "
   ]
  },
  {
   "cell_type": "code",
   "execution_count": 14,
   "id": "3e6caba4",
   "metadata": {},
   "outputs": [
    {
     "data": {
      "text/plain": [
       "(array([[3.91812345],\n",
       "        [3.12098084]]),\n",
       " array([103.64204842]),\n",
       " 2,\n",
       " array([14.51650993,  3.93894961]))"
      ]
     },
     "execution_count": 14,
     "metadata": {},
     "output_type": "execute_result"
    }
   ],
   "source": [
    "# The LinearRegression class is based on the scipy.linalg.lstsq() function (the\n",
    "# name stands for “least squares”), which you could call directly:\n",
    "theta_best_svd, residuals, rank, s = np.linalg.lstsq(X_b, y, rcond=1e-6)\n",
    "theta_best_svd, residuals, rank, s"
   ]
  },
  {
   "cell_type": "code",
   "execution_count": 15,
   "id": "cd8e1e9d",
   "metadata": {},
   "outputs": [],
   "source": [
    "# This function computes θ = X+y, where X+ is the pseudoinverse of X (specifically the\n",
    "# Moore-Penrose inverse). You can use np.linalg.pinv() to compute the pseudoinverse\n",
    "# directly:\n",
    "# >>> np.linalg.pinv(X_b).dot(y)\n",
    "# array([[4.21509616],\n",
    "# [2.77011339]])\n",
    "\n",
    "# just read page->119\n",
    "\n",
    "# The pseudoinverse itself is computed using a standard matrix factorization technique\n",
    "# called Singular Value Decomposition (SVD)\n",
    "\n",
    "# This approach is more efficient than computing the\n",
    "# Normal Equation, plus it handles edge cases nicely: indeed, the Normal Equation may\n",
    "# not work if the matrix XTX is not invertible (i.e., singular), such as if m < n or if some\n",
    "# features are redundant, but the pseudoinverse is always defined.\n",
    "\n",
    "# read pages-> upto 119"
   ]
  },
  {
   "cell_type": "markdown",
   "id": "b4c2cc4c",
   "metadata": {},
   "source": [
    "# Computational Complexity"
   ]
  },
  {
   "cell_type": "code",
   "execution_count": 16,
   "id": "209a7bf0",
   "metadata": {},
   "outputs": [],
   "source": [
    "# Warning :\n",
    "# Both the Normal Equation and the SVD approach get very slow\n",
    "# when the number of features grows large (e.g., 100,000). On the\n",
    "# positive side, both are linear with regards to the number of instances\n",
    "# in the training set (they are O(m)), so they handle large training\n",
    "# sets efficiently, provided they can fit in memory.\n",
    "\n",
    "# yk the normal equation's time.. as it computes the inverse of \n",
    "# X.T * X which is an (n + 1) X (n + 1) matrix"
   ]
  },
  {
   "cell_type": "markdown",
   "id": "1f52d898",
   "metadata": {},
   "source": [
    "## Gradient descent"
   ]
  },
  {
   "cell_type": "code",
   "execution_count": 17,
   "id": "0a95a46e",
   "metadata": {},
   "outputs": [],
   "source": [
    "# An important parameter in Gradient Descent is the size of the steps, determined by\n",
    "# the learning rate hyperparameter."
   ]
  },
  {
   "cell_type": "code",
   "execution_count": 18,
   "id": "50615739",
   "metadata": {},
   "outputs": [],
   "source": [
    "# Linear Regression model happens to be a\n",
    "# convex function, which means that if you pick any two points on the curve, the line\n",
    "# segment joining them never crosses the curve. This implies that there are no local\n",
    "# minima, just one global minimum."
   ]
  },
  {
   "cell_type": "markdown",
   "id": "3a9db92f",
   "metadata": {},
   "source": [
    "## Batch gradient descent "
   ]
  },
  {
   "cell_type": "code",
   "execution_count": 19,
   "id": "9b65fcb2",
   "metadata": {},
   "outputs": [],
   "source": [
    "# Notice that this formula involves calculations over the full training\n",
    "# set X, at each Gradient Descent step! This is why the algorithm is\n",
    "# called Batch Gradient Descent: it uses the whole batch of training\n",
    "# data at every step (actually, Full Gradient Descent would probably\n",
    "# be a better name). As a result it is terribly slow on very large training\n",
    "# sets (but we will see much faster Gradient Descent algorithms\n",
    "# shortly). However, Gradient Descent scales well with the number of\n",
    "# features; training a Linear Regression model when there are hundreds\n",
    "# of thousands of features is much faster using Gradient\n",
    "# Descent than using the Normal Equation or SVD decomposition.\n",
    "\n",
    "# page->124"
   ]
  },
  {
   "cell_type": "code",
   "execution_count": 20,
   "id": "54f58977",
   "metadata": {},
   "outputs": [],
   "source": [
    "# now yk\n",
    "# theta = theta - (learning rate)(derivative)"
   ]
  },
  {
   "cell_type": "code",
   "execution_count": 21,
   "id": "2a9cac1e",
   "metadata": {},
   "outputs": [
    {
     "name": "stdout",
     "output_type": "stream",
     "text": [
      "[[-1.92114376]\n",
      " [ 0.04821263]]\n"
     ]
    },
    {
     "data": {
      "text/plain": [
       "(array([[3.91812345],\n",
       "        [3.12098084]]),\n",
       " array([[1.47453673],\n",
       "        [0.20644099],\n",
       "        [1.77522995],\n",
       "        [1.92427746],\n",
       "        [0.12837259]]),\n",
       " array([[1.        , 1.47453673],\n",
       "        [1.        , 0.20644099],\n",
       "        [1.        , 1.77522995],\n",
       "        [1.        , 1.92427746],\n",
       "        [1.        , 0.12837259]]))"
      ]
     },
     "execution_count": 21,
     "metadata": {},
     "output_type": "execute_result"
    }
   ],
   "source": [
    "# quick implementation\n",
    "eta = 0.1 # learning rate\n",
    "n_iterations = 1000\n",
    "m = 100\n",
    "\n",
    "theta = np.random.randn(2, 1)\n",
    "print(theta)\n",
    "for iteration in range(n_iterations):\n",
    "    gradients = 2/m * X_b.T.dot(X_b.dot(theta)-y)\n",
    "    theta = theta - eta * gradients\n",
    "    \n",
    "theta, X[:5], X_b[:5]"
   ]
  },
  {
   "cell_type": "code",
   "execution_count": 22,
   "id": "037d4775",
   "metadata": {},
   "outputs": [],
   "source": [
    "# To find a good learning rate, you can use grid search (see Chapter 2). However, you\n",
    "# may want to limit the number of iterations so that grid search can eliminate models\n",
    "# that take too long to converge.\n",
    "\n",
    "# You may wonder how to set the number of iterations. If it is too low, you will still be\n",
    "# far away from the optimal solution when the algorithm stops, but if it is too high, you\n",
    "# will waste time while the model parameters do not change anymore. A simple solution\n",
    "# is to set a very large number of iterations but to interrupt the algorithm when the\n",
    "# gradient vector becomes tiny—that is, when its norm becomes smaller than a tiny\n",
    "# number ϵ (called the tolerance)—because this happens when Gradient Descent has\n",
    "# (almost) reached the minimum."
   ]
  },
  {
   "cell_type": "markdown",
   "id": "eadbd4ef",
   "metadata": {},
   "source": [
    "## stochastic gradient descent"
   ]
  },
  {
   "cell_type": "code",
   "execution_count": 23,
   "id": "b45da8e8",
   "metadata": {},
   "outputs": [],
   "source": [
    "# Stochastic Gradient Descent just\n",
    "# picks a random instance in the training set at every step and computes the gradients\n",
    "# based only on that single instance.\n",
    "\n",
    "# this makes it faster but it keep on bouncing up and down\n",
    "# so once the algorithm stops, the final parameter values are good, but no optimal\n",
    "\n",
    "# page->126"
   ]
  },
  {
   "cell_type": "code",
   "execution_count": 24,
   "id": "1d77909a",
   "metadata": {},
   "outputs": [],
   "source": [
    "# When the cost function is very irregular (as in Figure 4-6), this can actually help the\n",
    "# algorithm jump out of local minima, so Stochastic Gradient Descent has a better\n",
    "# chance of finding the global minimum than Batch Gradient Descent does.\n",
    "\n",
    "# Therefore randomness is good to escape from local optima, but bad because it means\n",
    "# that the algorithm can never settle at the minimum. One solution to this dilemma is\n",
    "# to gradually reduce the learning rate. The steps start out large (which helps make\n",
    "# quick progress and escape local minima), then get smaller and smaller, allowing the\n",
    "# algorithm to settle at the global minimum. This process is akin to simulated annealing,\n",
    "# an algorithm inspired from the process of annealing in metallurgy where molten\n",
    "# metal is slowly cooled down. The function that determines the learning rate at each\n",
    "# iteration is called the learning schedule. If the learning rate is reduced too quickly, you\n",
    "# may get stuck in a local minimum, or even end up frozen halfway to the minimum. If\n",
    "# the learning rate is reduced too slowly, you may jump around the minimum for a\n",
    "# long time and end up with a suboptimal solution if you halt training too early."
   ]
  },
  {
   "cell_type": "code",
   "execution_count": 25,
   "id": "82510ac9",
   "metadata": {},
   "outputs": [],
   "source": [
    "# implementation using simple learning shedule\n",
    "\n",
    "n_epochs = 50\n",
    "t0, t1 = 5, 50 # learning shedule hyperparameters\n",
    "def learning_schedule(t):\n",
    "    return t0/ (t1 + t)\n",
    "\n",
    "theta = np.random.randn(2, 1) # random initialization\n",
    "\n",
    "for epoch in range(n_epochs):\n",
    "    for i in range(m):\n",
    "        random_index = np.random.randint(m)\n",
    "        xi = X_b[random_index:random_index+1]\n",
    "        yi = y[random_index:random_index+1]\n",
    "        gradients = 2 * xi.T.dot(xi.dot(theta) - yi) # see we used only 1 x, rather then the whole training set..\n",
    "        eta = learning_schedule(epoch * m + i)\n",
    "        theta = theta - eta * gradients"
   ]
  },
  {
   "cell_type": "code",
   "execution_count": 26,
   "id": "07e5fe06",
   "metadata": {},
   "outputs": [],
   "source": [
    "# By convention we iterate by rounds of m iterations; each round is called an epoch.\n",
    "# While the Batch Gradient Descent code iterated 1,000 times through the whole training\n",
    "# set, this code goes through the training set only 50 times and reaches a fairly good\n",
    "# solution:"
   ]
  },
  {
   "cell_type": "code",
   "execution_count": 27,
   "id": "ee5dd5d1",
   "metadata": {},
   "outputs": [],
   "source": [
    "# i think it is a good option to shuffle every time.. see page->128"
   ]
  },
  {
   "cell_type": "code",
   "execution_count": 28,
   "id": "3b8951b6",
   "metadata": {},
   "outputs": [],
   "source": [
    "# The following implements the linear regression using sgdregression class\n",
    "# code runs for maximum 1000 epochs (max_iter=1000) or until the loss drops\n",
    "# by less than 1e-3 during one epoch (tol=1e-3), starting with a learning rate of 0.1\n",
    "# (eta0=0.1), using the default learning schedule (different from the preceding one),\n",
    "# and it does not use any regularization (penalty=None; more details on this shortly):"
   ]
  },
  {
   "cell_type": "code",
   "execution_count": 29,
   "id": "dc58f96e",
   "metadata": {},
   "outputs": [
    {
     "data": {
      "text/plain": [
       "SGDRegressor(eta0=0.1, penalty=None)"
      ]
     },
     "execution_count": 29,
     "metadata": {},
     "output_type": "execute_result"
    }
   ],
   "source": [
    "from sklearn.linear_model import SGDRegressor\n",
    "sgd_reg = SGDRegressor(max_iter=1000, tol=1e-3, penalty=None, eta0=0.1)\n",
    "sgd_reg.fit(X, y.ravel())\n",
    "\n",
    "# tolerance is here for when the loss drops by less than 12-3\n",
    "# eta = starting learning rate"
   ]
  },
  {
   "cell_type": "code",
   "execution_count": 30,
   "id": "406c28b9",
   "metadata": {},
   "outputs": [
    {
     "data": {
      "text/plain": [
       "(array([3.88128071]), array([3.1417108]))"
      ]
     },
     "execution_count": 30,
     "metadata": {},
     "output_type": "execute_result"
    }
   ],
   "source": [
    "sgd_reg.intercept_, sgd_reg.coef_"
   ]
  },
  {
   "cell_type": "markdown",
   "id": "460da5f6",
   "metadata": {},
   "source": [
    "## Mini-batch gradient descent"
   ]
  },
  {
   "cell_type": "code",
   "execution_count": 31,
   "id": "e253f45a",
   "metadata": {},
   "outputs": [],
   "source": [
    "# It is quite simple to understand once you know Batch and Stochastic Gradient\n",
    "# Descent: at each step, instead of computing the gradients based on the full training\n",
    "# set (as in Batch GD) or based on just one instance (as in Stochastic GD), Minibatch\n",
    "# GD computes the gradients on small random sets of instances called minibatches.\n",
    "# The main advantage of Mini-batch GD over Stochastic GD is that you can\n",
    "# get a performance boost from hardware optimization of matrix operations, especially\n",
    "# when using GPUs."
   ]
  },
  {
   "cell_type": "code",
   "execution_count": 32,
   "id": "8b73e8dc",
   "metadata": {},
   "outputs": [],
   "source": [
    "# There is almost no difference after training: all these algorithms\n",
    "# end up with very similar models and make predictions in exactly\n",
    "# the same way.\n",
    "# there is also a graph.. see page->129"
   ]
  },
  {
   "cell_type": "markdown",
   "id": "cdde0588",
   "metadata": {},
   "source": [
    "## polynomial regresson "
   ]
  },
  {
   "cell_type": "code",
   "execution_count": 33,
   "id": "43622498",
   "metadata": {},
   "outputs": [],
   "source": [
    "# What if your data is actually more complex than a simple straight line? Surprisingly,\n",
    "# you can actually use a linear model to fit nonlinear data. A simple way to do this is to\n",
    "# add powers of each feature as new features, then train a linear model on this extended\n",
    "# set of features. This technique is called Polynomial Regression."
   ]
  },
  {
   "cell_type": "code",
   "execution_count": 34,
   "id": "86f345bf",
   "metadata": {},
   "outputs": [
    {
     "data": {
      "text/plain": [
       "[<matplotlib.lines.Line2D at 0x1d64471e580>]"
      ]
     },
     "execution_count": 34,
     "metadata": {},
     "output_type": "execute_result"
    },
    {
     "data": {
      "image/png": "[encoded data removed]",
      "text/plain": [
       "<Figure size 432x288 with 1 Axes>"
      ]
     },
     "metadata": {
      "needs_background": "light"
     },
     "output_type": "display_data"
    }
   ],
   "source": [
    "# generating some non-linear data\n",
    "m = 100\n",
    "X = 6 * np.random.rand(m, 1) - 3\n",
    "y = 0.5 * X**2 + X + 2 + np.random.randn(m, 1)\n",
    "# do check out the difference between .rand and .randn\n",
    "plt.plot(X, y, \"b.\")"
   ]
  },
  {
   "cell_type": "code",
   "execution_count": 35,
   "id": "f6510f55",
   "metadata": {},
   "outputs": [],
   "source": [
    "# Clearly, a straight line will never fit this data properly. So let’s use Scikit-Learn’s Poly\n",
    "# nomialFeatures class to transform our training data, adding the square (2nd-degree\n",
    "# polynomial) of each feature in the training set as new features (in this case there is\n",
    "# just one feature):"
   ]
  },
  {
   "cell_type": "code",
   "execution_count": 36,
   "id": "6d5b8082",
   "metadata": {},
   "outputs": [
    {
     "data": {
      "text/plain": [
       "(array([1.49267989]),\n",
       " array([1.49267989, 2.22809324]),\n",
       " array([[ 1.49267989,  2.22809324],\n",
       "        [ 1.22288128,  1.49543863],\n",
       "        [-2.89104256,  8.35812709],\n",
       "        [-2.53126876,  6.40732153]]))"
      ]
     },
     "execution_count": 36,
     "metadata": {},
     "output_type": "execute_result"
    }
   ],
   "source": [
    "from sklearn.preprocessing import PolynomialFeatures\n",
    "poly_features = PolynomialFeatures(degree=2, include_bias=False)\n",
    "X_poly = poly_features.fit_transform(X)\n",
    "X[0], X_poly[0], X_poly[:4]\n",
    "\n",
    "# Note that min_degree=0 and min_degree=1 are equivalent as outputting the degree zero term is determined by include_bias.\n",
    "# taken from docs.."
   ]
  },
  {
   "cell_type": "code",
   "execution_count": 37,
   "id": "2eb76b17",
   "metadata": {},
   "outputs": [
    {
     "data": {
      "text/plain": [
       "(array([[ 1.49267989,  2.22809324],\n",
       "        [ 1.22288128,  1.49543863],\n",
       "        [-2.89104256,  8.35812709],\n",
       "        [-2.53126876,  6.40732153],\n",
       "        [ 2.50208638,  6.26043623]]),\n",
       " array([[ 1.49267989],\n",
       "        [ 1.22288128],\n",
       "        [-2.89104256],\n",
       "        [-2.53126876],\n",
       "        [ 2.50208638]]))"
      ]
     },
     "execution_count": 37,
     "metadata": {},
     "output_type": "execute_result"
    }
   ],
   "source": [
    "# X_poly now contains the original feature of X plus the square of this feature. Now you\n",
    "# can fit a LinearRegression model to this extended training data\n",
    "X_poly[:5], X[:5]"
   ]
  },
  {
   "cell_type": "code",
   "execution_count": 38,
   "id": "4ef04117",
   "metadata": {},
   "outputs": [
    {
     "data": {
      "text/plain": [
       "(array([1.95148029]), array([[0.95408058, 0.52489357]]))"
      ]
     },
     "execution_count": 38,
     "metadata": {},
     "output_type": "execute_result"
    }
   ],
   "source": [
    "lin_reg = LinearRegression()\n",
    "lin_reg.fit(X_poly, y)\n",
    "lin_reg.intercept_, lin_reg.coef_"
   ]
  },
  {
   "cell_type": "code",
   "execution_count": 39,
   "id": "8da7d5d8",
   "metadata": {},
   "outputs": [
    {
     "data": {
      "text/plain": [
       "([[-3, 9], [3, 9], [0, 0]], [2.94, 9.0, 2.1])"
      ]
     },
     "execution_count": 39,
     "metadata": {},
     "output_type": "execute_result"
    }
   ],
   "source": [
    "## data for plotting\n",
    "lin_reg.predict([[-3, 9]]), lin_reg.predict([[3, 9]])\n",
    "# we gotta pass x and x^2 to predict function\n",
    "X_temp = [[-3, 9], [3, 9], [0, 0]]\n",
    "y_temp = [2.1 + 1.01*x + 0.43*y for x, y in X_temp]\n",
    "X_temp, y_temp"
   ]
  },
  {
   "cell_type": "code",
   "execution_count": 40,
   "id": "6ae8bf5f",
   "metadata": {},
   "outputs": [
    {
     "data": {
      "text/plain": [
       "[<matplotlib.lines.Line2D at 0x1d644782af0>]"
      ]
     },
     "execution_count": 40,
     "metadata": {},
     "output_type": "execute_result"
    },
    {
     "data": {
      "image/png": "[encoded data removed]",
      "text/plain": [
       "<Figure size 432x288 with 1 Axes>"
      ]
     },
     "metadata": {
      "needs_background": "light"
     },
     "output_type": "display_data"
    }
   ],
   "source": [
    "plt.plot([-3, 0, 3], [2.94, 2.1, 9.0], \"r-\")\n",
    "# I am just taking only 3 points so the line looks like this.. i will improve .. the plot.. later..😅\n",
    "plt.plot(X, y, \"b.\")"
   ]
  },
  {
   "cell_type": "code",
   "execution_count": 41,
   "id": "4d2f23de",
   "metadata": {},
   "outputs": [],
   "source": [
    "# plt.plot(X, y, \"b.\")\n",
    "# z = lin_reg.coef_[0,0]*(X**2)+ lin_reg.coef_[0,1]*X + lin_reg.intercept_\n",
    "# plt.plot(z)\n",
    "# plt.plot(lin_reg.intercept_*X, lin_reg.coef_*y, \"b.\")"
   ]
  },
  {
   "cell_type": "code",
   "execution_count": 42,
   "id": "a2c2fa73",
   "metadata": {},
   "outputs": [],
   "source": [
    "# Note that when there are multiple features, Polynomial Regression is capable of finding\n",
    "# relationships between features (which is something a plain Linear Regression\n",
    "# model cannot do). This is made possible by the fact that PolynomialFeatures also\n",
    "# adds all combinations of features up to the given degree. For example, if there were\n",
    "# two features a and b, PolynomialFeatures with degree=3 would not only add the\n",
    "# features a2, a3, b2, and b3, but also the combinations ab, a2b, and ab2."
   ]
  },
  {
   "cell_type": "markdown",
   "id": "0ec3e63f",
   "metadata": {},
   "source": [
    "## learning curves"
   ]
  },
  {
   "cell_type": "code",
   "execution_count": 43,
   "id": "d79486e9",
   "metadata": {},
   "outputs": [],
   "source": [
    "# function that plots the learning curves of a model given some training data\n",
    "from sklearn.metrics import mean_squared_error\n",
    "from sklearn.model_selection import train_test_split\n",
    "\n",
    "def plot_learning_curves(model, X, y):\n",
    "    X_train, X_val, y_train, y_val = train_test_split(X, y, test_size=0.2)\n",
    "    train_errors, val_errors = [], []\n",
    "    for m in range(1, len(X_train)):\n",
    "        model.fit(X_train[:m], y_train[:m])\n",
    "        y_train_predict = model.predict(X_train[:m])\n",
    "        y_val_predict = model.predict(X_val)\n",
    "        train_errors.append(mean_squared_error(y_train[:m], y_train_predict))\n",
    "        val_errors.append(mean_squared_error(y_val, y_val_predict))\n",
    "    plt.plot(np.sqrt(train_errors), \"r-+\", linewidth=2, label=\"train\")\n",
    "    plt.plot(np.sqrt(val_errors), \"b-\", linewidth=3, label=\"val\")"
   ]
  },
  {
   "cell_type": "code",
   "execution_count": 44,
   "id": "1efaad36",
   "metadata": {},
   "outputs": [
    {
     "data": {
      "image/png": "[encoded data removed]",
      "text/plain": [
       "<Figure size 432x288 with 1 Axes>"
      ]
     },
     "metadata": {
      "needs_background": "light"
     },
     "output_type": "display_data"
    }
   ],
   "source": [
    "lin_reg = LinearRegression()\n",
    "lin_reg.fit(X, y)\n",
    "plot_learning_curves(lin_reg, X, y)\n",
    "# idk what happned see page->134"
   ]
  },
  {
   "cell_type": "code",
   "execution_count": 45,
   "id": "9a7cf6f3",
   "metadata": {},
   "outputs": [
    {
     "data": {
      "image/png": "[encoded data removed]",
      "text/plain": [
       "<Figure size 432x288 with 1 Axes>"
      ]
     },
     "metadata": {
      "needs_background": "light"
     },
     "output_type": "display_data"
    }
   ],
   "source": [
    "# if a model is underfitting the training data, adding more training \n",
    "# examples will not help so .. instead use a more complex model\n",
    "from sklearn.pipeline import Pipeline\n",
    "polynomial_regression = Pipeline([\n",
    "(\"poly_features\", PolynomialFeatures(degree=10, include_bias=False)),\n",
    "(\"lin_reg\", LinearRegression()),\n",
    "])\n",
    "plot_learning_curves(polynomial_regression, X, y)\n",
    "# better see page->135"
   ]
  },
  {
   "cell_type": "code",
   "execution_count": 46,
   "id": "5b3aadb7",
   "metadata": {},
   "outputs": [],
   "source": [
    "# one way to improve an overfitting model is to feed it more training\n",
    "# data until the validation error reaches the training error"
   ]
  },
  {
   "cell_type": "code",
   "execution_count": 47,
   "id": "69d71fde",
   "metadata": {},
   "outputs": [],
   "source": [
    "# bias/variance tradeoff page->136"
   ]
  },
  {
   "cell_type": "markdown",
   "id": "741d3a04",
   "metadata": {},
   "source": [
    "## regularized linear model"
   ]
  },
  {
   "cell_type": "code",
   "execution_count": 48,
   "id": "2d6bdc75",
   "metadata": {},
   "outputs": [],
   "source": [
    "# a good way to reduce overfitting is to regularize the model..\n",
    "# We will now look at Ridge Regression, Lasso Regression, and Elastic Net,\n",
    "# which implement three different ways to constrain the weights."
   ]
  },
  {
   "cell_type": "markdown",
   "id": "d328d542",
   "metadata": {},
   "source": [
    "## ridge regression"
   ]
  },
  {
   "cell_type": "code",
   "execution_count": 49,
   "id": "d5716deb",
   "metadata": {},
   "outputs": [],
   "source": [
    "# a regularization term: (alpha)E(theta)^2 is added to cost function\n",
    "# The hyperparameter α controls how much you want to regularize the model. If α = 0\n",
    "# then Ridge Regression is just Linear Regression. If α is very large, then all weights end\n",
    "# up very close to zero and the result is a flat line going through the data’s mean. Equation\n",
    "# 4-8 presents the Ridge Regression cost function.\n",
    "\n",
    "# j(theta) = MSE(theta) + (alpha)*1/2*E(theta)^2\n",
    "\n",
    "# WARNING: \n",
    "#     It is important to scale the data (e.g., using a StandardScaler)\n",
    "# before performing Ridge Regression, as it is sensitive to the scale of\n",
    "# the input features. This is true of most regularized models."
   ]
  },
  {
   "cell_type": "code",
   "execution_count": 50,
   "id": "fefbbf1e",
   "metadata": {},
   "outputs": [],
   "source": [
    "# do check out page->138 shows graphs,, and differences\n",
    "\n",
    "# As with Linear Regression, we can perform Ridge Regression either by computing a\n",
    "# closed-form equation or by performing Gradient Descent. The pros and cons are the\n",
    "# same. Equation 4-9 shows the closed-form solution (where A is the (n + 1) × (n + 1)\n",
    "# identity matrix13 except with a 0 in the top-left cell, corresponding to the bias term)."
   ]
  },
  {
   "cell_type": "code",
   "execution_count": 51,
   "id": "09d6851e",
   "metadata": {},
   "outputs": [],
   "source": [
    "# ridge regression closed_form\n",
    "# Equation 4.9\n",
    "# (theta) = (X.T * x + (alpha)A)^-1 * X.T * y"
   ]
  },
  {
   "cell_type": "code",
   "execution_count": 52,
   "id": "4341dbc1",
   "metadata": {},
   "outputs": [
    {
     "data": {
      "text/plain": [
       "array([[4.88708971]])"
      ]
     },
     "execution_count": 52,
     "metadata": {},
     "output_type": "execute_result"
    }
   ],
   "source": [
    "# Here is how to perform Ridge Regression with Scikit-Learn using a closed-form solution\n",
    "# (a variant of Equation 4-9 (see above) using a matrix factorization technique by André-Louis\n",
    "# Cholesky):\n",
    "\n",
    "from sklearn.linear_model import Ridge\n",
    "ridge_reg = Ridge(alpha=1, solver=\"cholesky\")\n",
    "ridge_reg.fit(X, y)\n",
    "ridge_reg.predict([[1.5]])"
   ]
  },
  {
   "cell_type": "code",
   "execution_count": 53,
   "id": "9d01c84b",
   "metadata": {},
   "outputs": [
    {
     "data": {
      "text/plain": [
       "array([4.87441198])"
      ]
     },
     "execution_count": 53,
     "metadata": {},
     "output_type": "execute_result"
    }
   ],
   "source": [
    "# now using Stochastic Gradient Descent\n",
    "sgd_reg = SGDRegressor(penalty=\"l2\")\n",
    "sgd_reg.fit(X, y.ravel())\n",
    "# ravel flattens the array.. see docs\n",
    "sgd_reg.predict([[1.5]])\n",
    "\n",
    "# The penalty hyperparameter sets the type of regularization term to use. Specifying\n",
    "# \"l2\" indicates that you want SGD to add a regularization term to the cost function\n",
    "# equal to half the square of the ℓ2 norm of the weight vector: this is simply Ridge\n",
    "# Regression.\n"
   ]
  },
  {
   "cell_type": "markdown",
   "id": "564d8f5c",
   "metadata": {},
   "source": [
    "## Lasso Regression "
   ]
  },
  {
   "cell_type": "code",
   "execution_count": 54,
   "id": "0852e176",
   "metadata": {},
   "outputs": [],
   "source": [
    "# just like Ridge\n",
    "# Regression, it adds a regularization term to the cost function, but it uses the ℓ1 norm\n",
    "# of the weight vector instead of half the square of the ℓ2 norm\n",
    "\n",
    "# j(theta) = MSE(theta) + (alpha)E|theta|\n",
    "\n",
    "# see page->140\n",
    "\n",
    "# An important characteristic of Lasso Regression is that it tends to completely eliminate\n",
    "# the weights of the least important features (i.e., set them to zero). For example,\n",
    "# the dashed line in the right plot on Figure 4-18 (with α = 10-7) looks quadratic, almost\n",
    "# linear: all the weights for the high-degree polynomial features are equal to zero. In\n",
    "# other words, Lasso Regression automatically performs feature selection and outputs a\n",
    "# sparse model (i.e., with few nonzero feature weights)."
   ]
  },
  {
   "cell_type": "code",
   "execution_count": 55,
   "id": "b13795c6",
   "metadata": {},
   "outputs": [
    {
     "data": {
      "text/plain": [
       "array([4.84105421])"
      ]
     },
     "execution_count": 55,
     "metadata": {},
     "output_type": "execute_result"
    }
   ],
   "source": [
    "# The Lasso cost function is not differentiable at θi = 0 (for i = 1, 2, ⋯, n), but Gradient\n",
    "# Descent still works fine if you use a subgradient vector g15 instead when any θi = 0.\n",
    "# Equation 4-11 shows a subgradient vector equation you can use for Gradient Descent\n",
    "# with the Lasso cost function.\n",
    "\n",
    "# example using a lasso class\n",
    "from sklearn.linear_model import Lasso\n",
    "lasso_reg = Lasso(alpha=0.1)\n",
    "lasso_reg.fit(X, y)\n",
    "lasso_reg.predict([[1.5]])\n"
   ]
  },
  {
   "cell_type": "markdown",
   "id": "845c1f82",
   "metadata": {},
   "source": [
    "## Elastic net"
   ]
  },
  {
   "cell_type": "code",
   "execution_count": 56,
   "id": "171994a4",
   "metadata": {},
   "outputs": [],
   "source": [
    "# The\n",
    "# regularization term is a simple mix of both Ridge and Lasso’s regularization terms,\n",
    "# and you can control the mix ratio r. When r = 0, Elastic Net is equivalent to Ridge\n",
    "# Regression, and when r = 1, it is equivalent to Lasso Regression\n",
    "\n",
    "# the cost function is also a mix of 2 you can see page->142\n"
   ]
  },
  {
   "cell_type": "code",
   "execution_count": 57,
   "id": "48b4418c",
   "metadata": {},
   "outputs": [
    {
     "data": {
      "text/plain": [
       "array([4.84439275])"
      ]
     },
     "execution_count": 57,
     "metadata": {},
     "output_type": "execute_result"
    }
   ],
   "source": [
    "# example\n",
    "\n",
    "from sklearn.linear_model import ElasticNet\n",
    "elastic_net = ElasticNet(alpha=0.1, l1_ratio=0.5)\n",
    "elastic_net.fit(X, y)\n",
    "elastic_net.predict([[1.5]])\n",
    "\n"
   ]
  },
  {
   "cell_type": "markdown",
   "id": "0ec20353",
   "metadata": {},
   "source": [
    "## early stopping"
   ]
  },
  {
   "cell_type": "code",
   "execution_count": 58,
   "id": "b67108ed",
   "metadata": {},
   "outputs": [],
   "source": [
    "# A very different way to regularize iterative learning algorithms such as Gradient\n",
    "# Descent is to stop training as soon as the validation error reaches a minimum. This is\n",
    "# called early stopping.\n",
    "# page->143"
   ]
  },
  {
   "cell_type": "code",
   "execution_count": 59,
   "id": "92aef275",
   "metadata": {},
   "outputs": [],
   "source": [
    "# # Here is a basic implementation of early stopping:\n",
    "# from sklearn.base import clone\n",
    "# from sklearn.preprocessing import StandardScaler\n",
    "# # prepare the data\n",
    "# poly_scaler = Pipeline([\n",
    "# (\"poly_features\", PolynomialFeatures(degree=90, include_bias=False)),\n",
    "# (\"std_scaler\", StandardScaler())\n",
    "# ])\n",
    "# X_train_poly_scaled = poly_scaler.fit_transform(X_train)\n",
    "# X_val_poly_scaled = poly_scaler.transform(X_val)\n",
    "# sgd_reg = SGDRegressor(max_iter=1, tol=-np.infty, warm_start=True,\n",
    "# penalty=None, learning_rate=\"constant\", eta0=0.0005)\n",
    "# minimum_val_error = float(\"inf\")\n",
    "# best_epoch = None\n",
    "# best_model = None\n",
    "# for epoch in range(1000):\n",
    "#     sgd_reg.fit(X_train_poly_scaled, y_train) # continues where it left off\n",
    "#     y_val_predict = sgd_reg.predict(X_val_poly_scaled)\n",
    "#     val_error = mean_squared_error(y_val, y_val_predict)\n",
    "#     if val_error < minimum_val_error:\n",
    "#         minimum_val_error = val_error\n",
    "#         best_epoch = epoch\n",
    "#         best_model = clone(sgd_reg)\n",
    "        \n",
    "# Note that with warm_start=True, when the fit() method is called, it just continues\n",
    "# # training where it left off instead of restarting from scratch."
   ]
  },
  {
   "cell_type": "markdown",
   "id": "2076a5ae",
   "metadata": {},
   "source": [
    "# Logistic regression"
   ]
  },
  {
   "cell_type": "code",
   "execution_count": 60,
   "id": "a6bdbd5e",
   "metadata": {},
   "outputs": [],
   "source": [
    "# page->144\n",
    "# there is no Normal Equation for this..but the cost function is convex\n",
    "# so gradient descent is guaranteed to find the global minimum\n",
    "\n",
    "# Once you have the gradient vector containing all\n",
    "# the partial derivatives you can use it in the Batch Gradient Descent algorithm. That’s\n",
    "# it: you now know how to train a Logistic Regression model. For Stochastic GD you\n",
    "# would of course just take one instance at a time, and for Mini-batch GD you would\n",
    "# use a mini-batch at a time.\n"
   ]
  },
  {
   "cell_type": "markdown",
   "id": "519161c8",
   "metadata": {},
   "source": [
    "## Decision boundaries"
   ]
  },
  {
   "cell_type": "code",
   "execution_count": 75,
   "id": "65d81500",
   "metadata": {},
   "outputs": [
    {
     "data": {
      "text/plain": [
       "['data',\n",
       " 'target',\n",
       " 'frame',\n",
       " 'target_names',\n",
       " 'DESCR',\n",
       " 'feature_names',\n",
       " 'filename',\n",
       " 'data_module']"
      ]
     },
     "execution_count": 75,
     "metadata": {},
     "output_type": "execute_result"
    }
   ],
   "source": [
    "# Let’s try to build a classifier to detect the Iris-Virginica type based only on the petal\n",
    "# width feature.\n",
    "\n",
    "from sklearn import datasets\n",
    "iris = datasets.load_iris()\n",
    "\n",
    "X = iris[\"data\"][:, 3:] # petal width\n",
    "y = (iris[\"target\"]==2).astype(int) # 1 if Iris-Virginica, else 0\n",
    "\n",
    "list(iris.keys())"
   ]
  },
  {
   "cell_type": "code",
   "execution_count": 81,
   "id": "2a1c64db",
   "metadata": {},
   "outputs": [
    {
     "data": {
      "text/plain": [
       "array(['setosa', 'versicolor', 'virginica'], dtype='<U10')"
      ]
     },
     "execution_count": 81,
     "metadata": {},
     "output_type": "execute_result"
    }
   ],
   "source": [
    "X.shape, y.shape\n",
    "iris.target_names"
   ]
  },
  {
   "cell_type": "code",
   "execution_count": 62,
   "id": "d82b20a7",
   "metadata": {},
   "outputs": [
    {
     "data": {
      "text/plain": [
       "LogisticRegression()"
      ]
     },
     "execution_count": 62,
     "metadata": {},
     "output_type": "execute_result"
    }
   ],
   "source": [
    "# train\n",
    "from sklearn.linear_model import LogisticRegression\n",
    "log_reg = LogisticRegression()\n",
    "log_reg.fit(X, y)"
   ]
  },
  {
   "cell_type": "code",
   "execution_count": 92,
   "id": "389f374f",
   "metadata": {},
   "outputs": [
    {
     "data": {
      "text/plain": [
       "Text(0, 0.5, 'probability (iris-virginica)')"
      ]
     },
     "execution_count": 92,
     "metadata": {},
     "output_type": "execute_result"
    },
    {
     "data": {
      "image/png": "[encoded data removed]",
      "text/plain": [
       "<Figure size 432x288 with 1 Axes>"
      ]
     },
     "metadata": {
      "needs_background": "light"
     },
     "output_type": "display_data"
    }
   ],
   "source": [
    "X_new = np.linspace(0, 3, 1000).reshape(-1, 1) # -1 indicates unknown dimension\n",
    "y_proba = log_reg.predict_proba(X_new)\n",
    "plt.plot(X_new, y_proba[:, 1], \"g-\", label=\"iris-virginica\")\n",
    "plt.plot(X_new, y_proba[:, 0], \"b--\", label=\"not iris-virginica\")\n",
    "plt.legend()\n",
    "plt.xlabel(\"petal width\")\n",
    "plt.ylabel(\"probability (iris-virginica)\", rotation =\"vertical\")\n",
    "# y_proba[:, 1]"
   ]
  },
  {
   "cell_type": "code",
   "execution_count": 93,
   "id": "dec830a2",
   "metadata": {},
   "outputs": [
    {
     "data": {
      "text/plain": [
       "(1000, 1)"
      ]
     },
     "execution_count": 93,
     "metadata": {},
     "output_type": "execute_result"
    }
   ],
   "source": [
    "X_new.shape"
   ]
  },
  {
   "cell_type": "code",
   "execution_count": 94,
   "id": "b7ca8994",
   "metadata": {},
   "outputs": [
    {
     "data": {
      "text/plain": [
       "array([1, 0])"
      ]
     },
     "execution_count": 94,
     "metadata": {},
     "output_type": "execute_result"
    }
   ],
   "source": [
    "log_reg.predict([[1.7],[1.5]])"
   ]
  },
  {
   "cell_type": "markdown",
   "id": "b491c99e",
   "metadata": {},
   "source": [
    "## softmax regression"
   ]
  },
  {
   "cell_type": "code",
   "execution_count": 65,
   "id": "dd4760e5",
   "metadata": {},
   "outputs": [],
   "source": [
    "# The Logistic Regression model can be generalized to support multiple classes directly,\n",
    "# without having to train and combine multiple binary classifiers.\n",
    "# This is called Softmax Regression, or Multinomial Logistic Regression.\n",
    "\n",
    "# The idea is quite simple: when given an instance x, the Softmax Regression model\n",
    "# first computes a score sk(x) for each class k, then estimates the probability of each\n",
    "# class by applying the softmax function (also called the normalized exponential) to the\n",
    "# scores. The equation to compute sk(x) should look familiar, as it is just like the equation\n",
    "# for Linear Regression prediction\n",
    "\n",
    "# s.. = X.T * (theta)^(k)"
   ]
  },
  {
   "cell_type": "code",
   "execution_count": 66,
   "id": "b368d80c",
   "metadata": {},
   "outputs": [],
   "source": [
    "# page->149 to 152\n",
    "\n",
    "# The Softmax Regression classifier predicts only one class at a time\n",
    "# (i.e., it is multiclass, not multioutput) so it should be used only with\n",
    "# mutually exclusive classes such as different types of plants. You\n",
    "# cannot use it to recognize multiple people in one picture."
   ]
  },
  {
   "cell_type": "code",
   "execution_count": 67,
   "id": "5787ea57",
   "metadata": {},
   "outputs": [
    {
     "data": {
      "text/plain": [
       "LogisticRegression(C=10, multi_class='multinomial')"
      ]
     },
     "execution_count": 67,
     "metadata": {},
     "output_type": "execute_result"
    }
   ],
   "source": [
    "# Let’s use Softmax Regression to classify the iris flowers into all three classes.\n",
    "# Scikit-\n",
    "# Learn’s LogisticRegression uses one-versus-all by default when you train it on more\n",
    "# than two classes, but you can set the multi_class hyperparameter to \"multinomial\"\n",
    "# to switch it to Softmax Regression instead. You must also specify a solver that supports\n",
    "# Softmax Regression, such as the \"lbfgs\" solver (see Scikit-Learn’s documentation\n",
    "# for more details). It also applies ℓ2 regularization by default, which you can\n",
    "# control using the hyperparameter C.\n",
    "\n",
    "\n",
    "X = iris[\"data\"][:, (2, 3)] # Petal length, petal width\n",
    "y = iris[\"target\"]\n",
    "\n",
    "softmax_reg = LogisticRegression(multi_class=\"multinomial\", solver=\"lbfgs\", C=10)\n",
    "softmax_reg.fit(X, y)\n"
   ]
  },
  {
   "cell_type": "code",
   "execution_count": 68,
   "id": "dd6d2195",
   "metadata": {},
   "outputs": [
    {
     "name": "stdout",
     "output_type": "stream",
     "text": [
      "[2]\n"
     ]
    },
    {
     "data": {
      "text/plain": [
       "array([[6.38014896e-07, 5.74929995e-02, 9.42506362e-01]])"
      ]
     },
     "execution_count": 68,
     "metadata": {},
     "output_type": "execute_result"
    }
   ],
   "source": [
    "print(softmax_reg.predict([[5, 2]]))\n",
    "softmax_reg.predict_proba([[5, 2]])"
   ]
  },
  {
   "cell_type": "code",
   "execution_count": null,
   "id": "f790550f",
   "metadata": {},
   "outputs": [],
   "source": []
  },
  {
   "cell_type": "code",
   "execution_count": null,
   "id": "5a94c390",
   "metadata": {},
   "outputs": [],
   "source": []
  },
  {
   "cell_type": "code",
   "execution_count": null,
   "id": "316983c4",
   "metadata": {},
   "outputs": [],
   "source": []
  },
  {
   "cell_type": "code",
   "execution_count": null,
   "id": "4aea7f04",
   "metadata": {},
   "outputs": [],
   "source": []
  },
  {
   "cell_type": "code",
   "execution_count": null,
   "id": "cb69fa76",
   "metadata": {},
   "outputs": [],
   "source": []
  },
  {
   "cell_type": "code",
   "execution_count": null,
   "id": "6088006c",
   "metadata": {},
   "outputs": [],
   "source": []
  }
 ],
 "metadata": {
  "kernelspec": {
   "display_name": "Python 3 (ipykernel)",
   "language": "python",
   "name": "python3"
  },
  "language_info": {
   "codemirror_mode": {
    "name": "ipython",
    "version": 3
   },
   "file_extension": ".py",
   "mimetype": "text/x-python",
   "name": "python",
   "nbconvert_exporter": "python",
   "pygments_lexer": "ipython3",
   "version": "3.9.0"
  }
 },
 "nbformat": 4,
 "nbformat_minor": 5
}
