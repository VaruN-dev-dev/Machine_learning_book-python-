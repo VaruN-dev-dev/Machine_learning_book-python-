{
 "cells": [
  {
   "cell_type": "code",
   "execution_count": 1,
   "id": "ff862024",
   "metadata": {},
   "outputs": [],
   "source": [
    "import numpy as np\n",
    "import pandas as pd\n",
    "import matplotlib.pyplot as plt\n",
    "%matplotlib inline"
   ]
  },
  {
   "cell_type": "code",
   "execution_count": 2,
   "id": "7ac8a93f",
   "metadata": {},
   "outputs": [],
   "source": [
    "from sklearn.datasets import fetch_openml\n",
    "mnist = fetch_openml('mnist_784', version=1, as_frame=False)"
   ]
  },
  {
   "cell_type": "code",
   "execution_count": 3,
   "id": "3ad733a3",
   "metadata": {},
   "outputs": [
    {
     "data": {
      "text/plain": [
       "dict_keys(['data', 'target', 'frame', 'categories', 'feature_names', 'target_names', 'DESCR', 'details', 'url'])"
      ]
     },
     "execution_count": 3,
     "metadata": {},
     "output_type": "execute_result"
    }
   ],
   "source": [
    "mnist.keys()"
   ]
  },
  {
   "cell_type": "code",
   "execution_count": 5,
   "id": "d807c527",
   "metadata": {},
   "outputs": [],
   "source": [
    "X, y = mnist[\"data\"], mnist[\"target\"]\n",
    "X.shape, y.shape\n",
    "y = y.astype(np.int64)\n",
    "# here m = 70000 and n = 784\n",
    "X_train, X_test, y_train, y_test = X[:60000], X[60000:], y[:60000], y[60000:]\n",
    "y_train_5 = (y_train == 5) # True for all 5s, False for all other digits.\n",
    "y_test_5 = (y_test == 5)"
   ]
  },
  {
   "cell_type": "code",
   "execution_count": 8,
   "id": "24e6efb5",
   "metadata": {},
   "outputs": [
    {
     "data": {
      "text/plain": [
       "(True, True)"
      ]
     },
     "execution_count": 8,
     "metadata": {},
     "output_type": "execute_result"
    }
   ],
   "source": [
    "# True in y_train_5, True in y_test_5\n",
    "1 in y_train_5, 1 in y_test_5\n",
    "# y_train"
   ]
  },
  {
   "cell_type": "code",
   "execution_count": 9,
   "id": "56d49edb",
   "metadata": {},
   "outputs": [
    {
     "data": {
      "text/plain": [
       "((60000, 784), (60000,), (60000, 1))"
      ]
     },
     "execution_count": 9,
     "metadata": {},
     "output_type": "execute_result"
    }
   ],
   "source": [
    "# converting true false to 1, 0\n",
    "\n",
    "y_train_5 = np.where(y_train_5, 1, 0)\n",
    "y_train_5 = y_train_5.reshape((-1, 1))\n",
    "\n",
    "y_test_5 = y_test_5.reshape((-1, 1))\n",
    "y_test_5 = np.where(y_test_5, 1, 0)\n",
    "X_train.shape, y_train.shape, y_train_5.shape"
   ]
  },
  {
   "cell_type": "code",
   "execution_count": 89,
   "id": "8d4d6f06",
   "metadata": {},
   "outputs": [
    {
     "data": {
      "text/plain": [
       "((784, 1), (60000, 784), (60000, 1))"
      ]
     },
     "execution_count": 89,
     "metadata": {},
     "output_type": "execute_result"
    }
   ],
   "source": [
    "# initializing weights and bias term\n",
    "W = np.random.rand(784).reshape((-1, 1)) # shape of W is (n, 1)\n",
    "b = 0.1\n",
    "W.shape, X_train.shape, y_train_5.shape"
   ]
  },
  {
   "cell_type": "code",
   "execution_count": 90,
   "id": "caa57a01",
   "metadata": {},
   "outputs": [],
   "source": [
    "def sigmoid(z):\n",
    "    return 1/(1+np.exp(-z))\n",
    "cost = []\n",
    "weights = np.array([])\n",
    "bes = np.array([])\n",
    "def gradient_descent(X, y, W, b, iterations, alpha):\n",
    "    J = 0\n",
    "    m = X.shape[0]\n",
    "    for i in range(iterations):\n",
    "        Z = np.dot(W.T, X.T) + b\n",
    "        A = sigmoid(Z)\n",
    "#         J = np.dot(np.log(A), y) + np.dot(np.log(1-A), 1-y)\n",
    "        dZ = (A - y.T)/m\n",
    "        dW = (np.dot(dZ, X))/m\n",
    "        db = np.sum(dZ)/m\n",
    "        W -= alpha*(dW.T)\n",
    "        b -= alpha*db\n",
    "        print(f\"values of b in iteration: {i} : {b}\")\n",
    "        print(f\"values of db in iteration: {i} : {db}\")\n",
    "#     x_axis = np.random.randn(784).reshape(-1, 1)\n",
    "#     plt.scatter(x_axis, W)\n",
    "#     cost.append(J)"
   ]
  },
  {
   "cell_type": "code",
   "execution_count": 91,
   "id": "0df75c64",
   "metadata": {},
   "outputs": [
    {
     "name": "stdout",
     "output_type": "stream",
     "text": [
      "values of b in iteration: 0 : 0.09999998483916667\n",
      "values of db in iteration: 0 : 1.5160833333333336e-05\n",
      "values of b in iteration: 1 : 0.09999996967833333\n",
      "values of db in iteration: 1 : 1.5160833333333336e-05\n",
      "values of b in iteration: 2 : 0.09999995451749999\n",
      "values of db in iteration: 2 : 1.5160833333333336e-05\n",
      "values of b in iteration: 3 : 0.09999993935666665\n",
      "values of db in iteration: 3 : 1.5160833333333336e-05\n",
      "values of b in iteration: 4 : 0.09999992419583331\n",
      "values of db in iteration: 4 : 1.5160833333333336e-05\n",
      "values of b in iteration: 5 : 0.09999990903499997\n",
      "values of db in iteration: 5 : 1.5160833333333336e-05\n",
      "values of b in iteration: 6 : 0.09999989387416663\n",
      "values of db in iteration: 6 : 1.5160833333333336e-05\n",
      "values of b in iteration: 7 : 0.0999998787133333\n",
      "values of db in iteration: 7 : 1.5160833333333336e-05\n",
      "values of b in iteration: 8 : 0.09999986355249996\n",
      "values of db in iteration: 8 : 1.5160833333333336e-05\n",
      "values of b in iteration: 9 : 0.09999984839166662\n",
      "values of db in iteration: 9 : 1.5160833333333336e-05\n"
     ]
    }
   ],
   "source": [
    "iterations = 10\n",
    "gradient_descent(X_train, y_train_5, W, b,iterations, 0.001 )"
   ]
  },
  {
   "cell_type": "code",
   "execution_count": null,
   "id": "521a7b13",
   "metadata": {},
   "outputs": [],
   "source": [
    "def predict(X, W, b):\n",
    "    "
   ]
  },
  {
   "cell_type": "code",
   "execution_count": 68,
   "id": "da5db8c4",
   "metadata": {},
   "outputs": [
    {
     "data": {
      "text/plain": [
       "0"
      ]
     },
     "execution_count": 68,
     "metadata": {},
     "output_type": "execute_result"
    }
   ],
   "source": [
    "# now predict\n",
    "b"
   ]
  },
  {
   "cell_type": "code",
   "execution_count": null,
   "id": "90f57ae9",
   "metadata": {},
   "outputs": [],
   "source": []
  },
  {
   "cell_type": "code",
   "execution_count": null,
   "id": "f1782af4",
   "metadata": {},
   "outputs": [],
   "source": []
  },
  {
   "cell_type": "code",
   "execution_count": null,
   "id": "497ddf5d",
   "metadata": {},
   "outputs": [],
   "source": []
  },
  {
   "cell_type": "code",
   "execution_count": null,
   "id": "ec21e45c",
   "metadata": {},
   "outputs": [],
   "source": []
  }
 ],
 "metadata": {
  "kernelspec": {
   "display_name": "Python 3 (ipykernel)",
   "language": "python",
   "name": "python3"
  },
  "language_info": {
   "codemirror_mode": {
    "name": "ipython",
    "version": 3
   },
   "file_extension": ".py",
   "mimetype": "text/x-python",
   "name": "python",
   "nbconvert_exporter": "python",
   "pygments_lexer": "ipython3",
   "version": "3.9.0"
  }
 },
 "nbformat": 4,
 "nbformat_minor": 5
}
