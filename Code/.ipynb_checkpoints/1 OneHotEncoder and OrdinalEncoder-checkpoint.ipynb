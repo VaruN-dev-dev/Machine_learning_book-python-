{
 "cells": [
  {
   "cell_type": "code",
   "execution_count": 1,
   "id": "5d1459e4",
   "metadata": {},
   "outputs": [],
   "source": [
    "import pandas as pd\n",
    "df = pd.DataFrame({\n",
    "    \"income\" : [10,20,30,40,50],\n",
    "    \"ocean_proximity\" : [\"Near ocean\" , \"inland\"  , \"far ocean\" , \"inland\" , \"Near ocean\"]\n",
    "})"
   ]
  },
  {
   "cell_type": "code",
   "execution_count": 2,
   "id": "9e25c598",
   "metadata": {},
   "outputs": [
    {
     "data": {
      "text/html": [
       "<div>\n",
       "<style scoped>\n",
       "    .dataframe tbody tr th:only-of-type {\n",
       "        vertical-align: middle;\n",
       "    }\n",
       "\n",
       "    .dataframe tbody tr th {\n",
       "        vertical-align: top;\n",
       "    }\n",
       "\n",
       "    .dataframe thead th {\n",
       "        text-align: right;\n",
       "    }\n",
       "</style>\n",
       "<table border=\"1\" class=\"dataframe\">\n",
       "  <thead>\n",
       "    <tr style=\"text-align: right;\">\n",
       "      <th></th>\n",
       "      <th>income</th>\n",
       "      <th>ocean_proximity</th>\n",
       "    </tr>\n",
       "  </thead>\n",
       "  <tbody>\n",
       "    <tr>\n",
       "      <th>0</th>\n",
       "      <td>10</td>\n",
       "      <td>Near ocean</td>\n",
       "    </tr>\n",
       "    <tr>\n",
       "      <th>1</th>\n",
       "      <td>20</td>\n",
       "      <td>inland</td>\n",
       "    </tr>\n",
       "    <tr>\n",
       "      <th>2</th>\n",
       "      <td>30</td>\n",
       "      <td>far ocean</td>\n",
       "    </tr>\n",
       "    <tr>\n",
       "      <th>3</th>\n",
       "      <td>40</td>\n",
       "      <td>inland</td>\n",
       "    </tr>\n",
       "    <tr>\n",
       "      <th>4</th>\n",
       "      <td>50</td>\n",
       "      <td>Near ocean</td>\n",
       "    </tr>\n",
       "  </tbody>\n",
       "</table>\n",
       "</div>"
      ],
      "text/plain": [
       "   income ocean_proximity\n",
       "0      10      Near ocean\n",
       "1      20          inland\n",
       "2      30       far ocean\n",
       "3      40          inland\n",
       "4      50      Near ocean"
      ]
     },
     "execution_count": 2,
     "metadata": {},
     "output_type": "execute_result"
    }
   ],
   "source": [
    "df.head()"
   ]
  },
  {
   "cell_type": "code",
   "execution_count": 3,
   "id": "00ac5b9e",
   "metadata": {},
   "outputs": [],
   "source": [
    "# here if we are feeding this model into a machine learning model we gotta assign numerical values to the ocean column.."
   ]
  },
  {
   "cell_type": "code",
   "execution_count": 4,
   "id": "30b17fc6",
   "metadata": {},
   "outputs": [],
   "source": [
    "from sklearn.preprocessing import OrdinalEncoder\n",
    "ordinal_incoder = OrdinalEncoder()"
   ]
  },
  {
   "cell_type": "code",
   "execution_count": 6,
   "id": "d91c3790",
   "metadata": {},
   "outputs": [],
   "source": [
    "to_change = df[\"ocean_proximity\"]\n",
    "new_df = ordinal_incoder.fit_transform([to_change])"
   ]
  },
  {
   "cell_type": "code",
   "execution_count": 7,
   "id": "39714550",
   "metadata": {},
   "outputs": [
    {
     "data": {
      "text/plain": [
       "array([[0., 0., 0., 0., 0.]])"
      ]
     },
     "execution_count": 7,
     "metadata": {},
     "output_type": "execute_result"
    }
   ],
   "source": [
    "new_df[:3]"
   ]
  },
  {
   "cell_type": "code",
   "execution_count": 8,
   "id": "ce761eed",
   "metadata": {},
   "outputs": [
    {
     "data": {
      "text/plain": [
       "[array(['Near ocean'], dtype=object),\n",
       " array(['inland'], dtype=object),\n",
       " array(['far ocean'], dtype=object),\n",
       " array(['inland'], dtype=object),\n",
       " array(['Near ocean'], dtype=object)]"
      ]
     },
     "execution_count": 8,
     "metadata": {},
     "output_type": "execute_result"
    }
   ],
   "source": [
    "ordinal_incoder.categories_"
   ]
  },
  {
   "cell_type": "code",
   "execution_count": 9,
   "id": "73b854df",
   "metadata": {},
   "outputs": [],
   "source": [
    "# One issue with this representation is that ML algorithms will assume that two nearby\n",
    "# values are more similar than two distant values. This may be fine in some cases (e.g.,\n",
    "# for ordered categories such as “bad”, “average”, “good”, “excellent”), but it is obviously\n",
    "# not the case for the ocean_proximity column"
   ]
  },
  {
   "cell_type": "code",
   "execution_count": 10,
   "id": "f63b5a5e",
   "metadata": {},
   "outputs": [],
   "source": [
    "from sklearn.preprocessing import OneHotEncoder"
   ]
  },
  {
   "cell_type": "code",
   "execution_count": 12,
   "id": "f408416d",
   "metadata": {},
   "outputs": [],
   "source": [
    "encoder = OneHotEncoder()\n",
    "ocean_hot = encoder.fit_transform([to_change])"
   ]
  },
  {
   "cell_type": "code",
   "execution_count": 14,
   "id": "0c114450",
   "metadata": {},
   "outputs": [
    {
     "data": {
      "text/plain": [
       "<1x5 sparse matrix of type '<class 'numpy.float64'>'\n",
       "\twith 5 stored elements in Compressed Sparse Row format>"
      ]
     },
     "execution_count": 14,
     "metadata": {},
     "output_type": "execute_result"
    }
   ],
   "source": [
    "ocean_hot"
   ]
  },
  {
   "cell_type": "code",
   "execution_count": null,
   "id": "ebf13631",
   "metadata": {},
   "outputs": [],
   "source": [
    "# Notice that the output is a SciPy sparse matrix, instead of a NumPy array. This is very\n",
    "# useful when you have categorical attributes with thousands of categories. After onehot\n",
    "# encoding we get a matrix with thousands of columns, and the matrix is full of\n",
    "# zeros except for a single 1 per row. Using up tons of memory mostly to store zeros\n",
    "# would be very wasteful, so instead a sparse matrix only stores the location of the non‐zero elements"
   ]
  },
  {
   "cell_type": "code",
   "execution_count": 16,
   "id": "ae83c4dc",
   "metadata": {},
   "outputs": [
    {
     "data": {
      "text/plain": [
       "[array(['Near ocean'], dtype=object),\n",
       " array(['inland'], dtype=object),\n",
       " array(['far ocean'], dtype=object),\n",
       " array(['inland'], dtype=object),\n",
       " array(['Near ocean'], dtype=object)]"
      ]
     },
     "execution_count": 16,
     "metadata": {},
     "output_type": "execute_result"
    }
   ],
   "source": [
    "encoder.categories_"
   ]
  },
  {
   "cell_type": "code",
   "execution_count": null,
   "id": "1ad59dcc",
   "metadata": {},
   "outputs": [],
   "source": [
    "# tbh this book is really good"
   ]
  },
  {
   "cell_type": "code",
   "execution_count": null,
   "id": "e17b1bfd",
   "metadata": {},
   "outputs": [],
   "source": []
  }
 ],
 "metadata": {
  "kernelspec": {
   "display_name": "Python 3 (ipykernel)",
   "language": "python",
   "name": "python3"
  },
  "language_info": {
   "codemirror_mode": {
    "name": "ipython",
    "version": 3
   },
   "file_extension": ".py",
   "mimetype": "text/x-python",
   "name": "python",
   "nbconvert_exporter": "python",
   "pygments_lexer": "ipython3",
   "version": "3.9.0"
  }
 },
 "nbformat": 4,
 "nbformat_minor": 5
}
