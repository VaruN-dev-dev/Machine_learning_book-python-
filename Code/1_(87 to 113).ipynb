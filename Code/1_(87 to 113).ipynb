{
 "cells": [
  {
   "cell_type": "markdown",
   "id": "bb5b5d10",
   "metadata": {},
   "source": [
    "# Chapter-3 Classification"
   ]
  },
  {
   "cell_type": "code",
   "execution_count": 1,
   "id": "38fb0b66",
   "metadata": {},
   "outputs": [],
   "source": [
    "import numpy as np\n",
    "import pandas as pd\n",
    "from sklearn.datasets import fetch_openml"
   ]
  },
  {
   "cell_type": "code",
   "execution_count": 2,
   "id": "07842ef8",
   "metadata": {},
   "outputs": [],
   "source": [
    "mnist = fetch_openml(\"mnist_784\", version=1) "
   ]
  },
  {
   "cell_type": "code",
   "execution_count": 3,
   "id": "fd056259",
   "metadata": {},
   "outputs": [
    {
     "data": {
      "text/plain": [
       "dict_keys(['data', 'target', 'frame', 'categories', 'feature_names', 'target_names', 'DESCR', 'details', 'url'])"
      ]
     },
     "execution_count": 3,
     "metadata": {},
     "output_type": "execute_result"
    }
   ],
   "source": [
    "mnist.keys()"
   ]
  },
  {
   "cell_type": "code",
   "execution_count": 4,
   "id": "7bbe7846",
   "metadata": {},
   "outputs": [
    {
     "data": {
      "text/plain": [
       "(70000, 784)"
      ]
     },
     "execution_count": 4,
     "metadata": {},
     "output_type": "execute_result"
    }
   ],
   "source": [
    "X, y = mnist[\"data\"], mnist[\"target\"]\n",
    "X.shape"
   ]
  },
  {
   "cell_type": "code",
   "execution_count": 5,
   "id": "ba4ce80f",
   "metadata": {},
   "outputs": [],
   "source": [
    "# there are 70K images, each has 784 features. This is cause each image is \n",
    "# 28 X 28 pixels, and each feature simply represents one pixel's intensity."
   ]
  },
  {
   "cell_type": "code",
   "execution_count": 6,
   "id": "60ca3be1",
   "metadata": {},
   "outputs": [],
   "source": [
    "import matplotlib as mpl\n",
    "import matplotlib.pyplot as plt\n",
    "X = X.to_numpy()"
   ]
  },
  {
   "cell_type": "code",
   "execution_count": 7,
   "id": "17ebd914",
   "metadata": {},
   "outputs": [
    {
     "data": {
      "image/png": "[encoded data removed]",
      "text/plain": [
       "<Figure size 432x288 with 1 Axes>"
      ]
     },
     "metadata": {
      "needs_background": "light"
     },
     "output_type": "display_data"
    }
   ],
   "source": [
    "\n",
    "some_digit = X[0]\n",
    "some_digit_image = some_digit.reshape(28, 28)\n",
    "plt.imshow(some_digit_image, cmap=mpl.cm.binary, interpolation=\"nearest\")\n",
    "plt.axis(\"off\")\n",
    "plt.show()"
   ]
  },
  {
   "cell_type": "code",
   "execution_count": 8,
   "id": "d3579bc2",
   "metadata": {},
   "outputs": [
    {
     "data": {
      "text/plain": [
       "'5'"
      ]
     },
     "execution_count": 8,
     "metadata": {},
     "output_type": "execute_result"
    }
   ],
   "source": [
    "y[0]"
   ]
  },
  {
   "cell_type": "code",
   "execution_count": 10,
   "id": "a7140e3a",
   "metadata": {},
   "outputs": [],
   "source": [
    "# note the label is string. We prefer numbers\n",
    "y = y.astype(np.uint8)"
   ]
  },
  {
   "cell_type": "code",
   "execution_count": 11,
   "id": "917cae5f",
   "metadata": {},
   "outputs": [],
   "source": [
    "X_train, X_test, y_train, y_test = X[:60000], X[60000:], y[:60000], y[60000:]"
   ]
  },
  {
   "cell_type": "code",
   "execution_count": 12,
   "id": "ba39e5c3",
   "metadata": {},
   "outputs": [],
   "source": [
    "# The training set is already shuffled for us, which is good as this guarantees that all\n",
    "# cross-validation folds will be similar (you don’t want one fold to be missing some digits).\n",
    "# Moreover, some learning algorithms are sensitive to the order of the training\n",
    "# 2 Shuffling may be a bad idea in some contexts—for example, if you are working on time series data (such as\n",
    "# stock market prices or weather conditions). We will explore this in the next chapters.\n",
    "# instances, and they perform poorly if they get many similar instances in a row. Shuffling\n",
    "# the dataset ensures that this won’t happen.2"
   ]
  },
  {
   "cell_type": "markdown",
   "id": "8e0b73e2",
   "metadata": {},
   "source": [
    "# Training a Binary classifier"
   ]
  },
  {
   "cell_type": "code",
   "execution_count": 13,
   "id": "698505e4",
   "metadata": {},
   "outputs": [],
   "source": [
    "# Let’s simplify the problem for now and only try to identify one digit—for example,\n",
    "# the number 5. This “5-detector” will be an example of a binary classifier, capable of\n",
    "# distinguishing between just two classes, 5 and not-5. Let’s create the target vectors for\n",
    "# this classification task:\n",
    "y_train_5 = (y_train == 5) # True for all 5s, False for other digits\n",
    "y_test_5 = (y_test == 5)"
   ]
  },
  {
   "cell_type": "code",
   "execution_count": 14,
   "id": "ac5c3804",
   "metadata": {},
   "outputs": [
    {
     "data": {
      "text/plain": [
       "SGDClassifier(random_state=42)"
      ]
     },
     "execution_count": 14,
     "metadata": {},
     "output_type": "execute_result"
    }
   ],
   "source": [
    "# now pick a classifier and train it. We will be using a stochastic gradient descent(SGD)\n",
    "from sklearn.linear_model import SGDClassifier\n",
    "\n",
    "sgd_clf = SGDClassifier(random_state=42)\n",
    "sgd_clf.fit(X_train, y_train_5)"
   ]
  },
  {
   "cell_type": "code",
   "execution_count": 20,
   "id": "8b00a5ce",
   "metadata": {},
   "outputs": [],
   "source": [
    "# The SGDClassifier relies on randomness during training (hence\n",
    "# the name “stochastic”). If you want reproducible results, you\n",
    "# should set the random_state parameter."
   ]
  },
  {
   "cell_type": "code",
   "execution_count": 15,
   "id": "11aac90b",
   "metadata": {},
   "outputs": [
    {
     "data": {
      "text/plain": [
       "array([ True])"
      ]
     },
     "execution_count": 15,
     "metadata": {},
     "output_type": "execute_result"
    }
   ],
   "source": [
    "# now we can use it to detect images of number 5\n",
    "sgd_clf.predict([some_digit])"
   ]
  },
  {
   "cell_type": "markdown",
   "id": "33452e1f",
   "metadata": {},
   "source": [
    "## performace measures"
   ]
  },
  {
   "cell_type": "markdown",
   "id": "a7c5f384",
   "metadata": {},
   "source": [
    "### measuring accuracy using cross-validation\n",
    "### implementing cross-validation"
   ]
  },
  {
   "cell_type": "code",
   "execution_count": 22,
   "id": "20c0d50f",
   "metadata": {},
   "outputs": [
    {
     "name": "stdout",
     "output_type": "stream",
     "text": [
      "0.9669\n",
      "0.91625\n",
      "0.96785\n"
     ]
    }
   ],
   "source": [
    "# Occasionally you will need more control over the cross-validation process than what\n",
    "# Scikit-Learn provides off-the-shelf. In these cases, you can implement crossvalidation\n",
    "# yourself; it is actually fairly straightforward. The following code does\n",
    "# roughly the same thing as Scikit-Learn’s cross_val_score() function, and prints the\n",
    "# same result:\n",
    "\n",
    "from sklearn.model_selection import StratifiedKFold\n",
    "from sklearn.base import clone\n",
    "skfolds = StratifiedKFold(n_splits=3, random_state=42, shuffle=True)\n",
    "for train_index, test_index in skfolds.split(X_train, y_train_5):\n",
    "    clone_clf = clone(sgd_clf)\n",
    "    X_train_folds = X_train[train_index]\n",
    "    y_train_folds = y_train_5[train_index]\n",
    "    X_test_fold = X_train[test_index]\n",
    "    y_test_fold = y_train_5[test_index]\n",
    "    clone_clf.fit(X_train_folds, y_train_folds)\n",
    "    y_pred = clone_clf.predict(X_test_fold)\n",
    "    n_correct = sum(y_pred == y_test_fold)\n",
    "    print(n_correct / len(y_pred))\n",
    "\n",
    "# The StratifiedKFold class performs stratified sampling (as explained in Chapter 2)\n",
    "# to produce folds that contain a representative ratio of each class. At each iteration the\n",
    "# code creates a clone of the classifier, trains that clone on the training folds, and makes\n",
    "# predictions on the test fold. Then it counts the number of correct predictions and\n",
    "# outputs the ratio of correct predictions."
   ]
  },
  {
   "cell_type": "code",
   "execution_count": 23,
   "id": "d9a51037",
   "metadata": {},
   "outputs": [],
   "source": [
    "# Let’s use the cross_val_score() function to evaluate your SGDClassifier model\n",
    "# using K-fold cross-validation, with three folds. Remember that K-fold crossvalidation\n",
    "# means splitting the training set into K-folds (in this case, three), then making\n",
    "# predictions and evaluating them on each fold using a model trained on the\n",
    "# remaining folds"
   ]
  },
  {
   "cell_type": "code",
   "execution_count": 16,
   "id": "0dbeaa6b",
   "metadata": {},
   "outputs": [
    {
     "data": {
      "text/plain": [
       "array([0.95035, 0.96035, 0.9604 ])"
      ]
     },
     "execution_count": 16,
     "metadata": {},
     "output_type": "execute_result"
    }
   ],
   "source": [
    "from sklearn.model_selection import cross_val_score\n",
    "cross_val_score(sgd_clf, X_train, y_train_5, cv=3, scoring=\"accuracy\")"
   ]
  },
  {
   "cell_type": "code",
   "execution_count": 17,
   "id": "35f7a1c5",
   "metadata": {},
   "outputs": [],
   "source": [
    "# let’s look at a very\n",
    "# dumb classifier that just classifies every single image in the “not-5” class:\n",
    "\n",
    "from sklearn.base import BaseEstimator\n",
    "\n",
    "class Never5Classifier(BaseEstimator):\n",
    "    def fit(self, X, y=None):\n",
    "        pass\n",
    "    def predict(self, X):\n",
    "        return np.zeros((len(X), 1), dtype=bool)"
   ]
  },
  {
   "cell_type": "code",
   "execution_count": 18,
   "id": "7f0a7a3e",
   "metadata": {},
   "outputs": [
    {
     "data": {
      "text/plain": [
       "array([0.91125, 0.90855, 0.90915])"
      ]
     },
     "execution_count": 18,
     "metadata": {},
     "output_type": "execute_result"
    }
   ],
   "source": [
    "# now test accuracy\n",
    "never_5_clf = Never5Classifier()\n",
    "cross_val_score(never_5_clf, X_train, y_train_5, cv=3, scoring=\"accuracy\")"
   ]
  },
  {
   "cell_type": "code",
   "execution_count": 19,
   "id": "180ed28b",
   "metadata": {},
   "outputs": [],
   "source": [
    "# That’s right, it has over 90% accuracy! This is simply because only about 10% of the\n",
    "# images are 5s, so if you always guess that an image is not a 5, you will be right about\n",
    "# 90% of the time. Beats Nostradamus.\n",
    "\n",
    "# This demonstrates why accuracy is generally not the preferred performance measure\n",
    "# for classifiers, especially when you are dealing with skewed datasets (i.e., when some\n",
    "# classes are much more frequent than others)."
   ]
  },
  {
   "cell_type": "markdown",
   "id": "197e6613",
   "metadata": {},
   "source": [
    "## confusion matrix"
   ]
  },
  {
   "cell_type": "code",
   "execution_count": 20,
   "id": "fbe611c6",
   "metadata": {},
   "outputs": [],
   "source": [
    "# The general idea is to count the number of times instances of class A are\n",
    "# classified as class B. For example, to know the number of times the classifier confused\n",
    "# images of 5s with 3s, you would look in the 5th row and 3rd column of the confusion\n",
    "# matrix.\n",
    "# To compute the confusion matrix, you first need to have a set of predictions, so they\n",
    "# can be compared to the actual targets. You could make predictions on the test set, but\n",
    "# let’s keep it untouched for now (remember that you want to use the test set only at the\n",
    "# very end of your project, once you have a classifier that you are ready to launch).\n",
    "# Instead, you can use the cross_val_predict() function:"
   ]
  },
  {
   "cell_type": "code",
   "execution_count": 21,
   "id": "8b678b76",
   "metadata": {},
   "outputs": [
    {
     "data": {
      "text/plain": [
       "array([ True, False, False, ...,  True, False, False])"
      ]
     },
     "execution_count": 21,
     "metadata": {},
     "output_type": "execute_result"
    }
   ],
   "source": [
    "from sklearn.model_selection import cross_val_predict\n",
    "y_train_pred = cross_val_predict(sgd_clf, X_train, y_train_5, cv=3)\n",
    "y_train_pred"
   ]
  },
  {
   "cell_type": "code",
   "execution_count": 23,
   "id": "3b7b6251",
   "metadata": {},
   "outputs": [
    {
     "data": {
      "text/plain": [
       "((60000,),\n",
       " (60000,),\n",
       " 0         True\n",
       " 1        False\n",
       " 2        False\n",
       " 3        False\n",
       " 4        False\n",
       "          ...  \n",
       " 59995    False\n",
       " 59996    False\n",
       " 59997     True\n",
       " 59998    False\n",
       " 59999    False\n",
       " Name: class, Length: 60000, dtype: bool)"
      ]
     },
     "execution_count": 23,
     "metadata": {},
     "output_type": "execute_result"
    }
   ],
   "source": [
    "# but instead of returning the evaluation scores, it returns the \n",
    "# predictions made on each test fold.\n",
    "y_train_5.shape, y_train_pred.shape, y_train_5"
   ]
  },
  {
   "cell_type": "code",
   "execution_count": 22,
   "id": "c2763c08",
   "metadata": {},
   "outputs": [
    {
     "data": {
      "text/plain": [
       "array([[53892,   687],\n",
       "       [ 1891,  3530]], dtype=int64)"
      ]
     },
     "execution_count": 22,
     "metadata": {},
     "output_type": "execute_result"
    }
   ],
   "source": [
    "# now confusion matrix\n",
    "from sklearn.metrics import confusion_matrix\n",
    "confusion_matrix(y_train_5, y_train_pred)"
   ]
  },
  {
   "cell_type": "code",
   "execution_count": 24,
   "id": "9088261c",
   "metadata": {},
   "outputs": [],
   "source": [
    "# Each row in a confusion matrix represents an actual class, while each column represents\n",
    "# a predicted class. The first row of this matrix considers non-5 images (the negative\n",
    "# class): 53,892 of them were correctly classified as non-5s (they are called true\n",
    "# negatives), while the remaining 687 were wrongly classified as 5s (false positives).\n",
    "# The second row considers the images of 5s (the positive class): 1891 were wrongly\n",
    "# classified as non-5s (false negatives), while the remaining 3530 were correctly classified\n",
    "# as 5s (true positives). A perfect classifier would have only true positives and true\n",
    "# negatives, so its confusion matrix would have nonzero values only on its main diagonal\n",
    "# (top left to bottom right):"
   ]
  },
  {
   "cell_type": "code",
   "execution_count": 26,
   "id": "2047f7e6",
   "metadata": {},
   "outputs": [
    {
     "data": {
      "text/plain": [
       "array([[54579,     0],\n",
       "       [    0,  5421]], dtype=int64)"
      ]
     },
     "execution_count": 26,
     "metadata": {},
     "output_type": "execute_result"
    }
   ],
   "source": [
    "y_train_perfect_predictions = y_train_5 # pretend we reached perfection\n",
    "confusion_matrix(y_train_5, y_train_perfect_predictions)"
   ]
  },
  {
   "cell_type": "code",
   "execution_count": 25,
   "id": "5e911cc6",
   "metadata": {},
   "outputs": [],
   "source": [
    "# precision of a classifier \n",
    "# precision = tp/(tp + fp)\n",
    "# tp is no of true positives, fp is no of fake positives"
   ]
  },
  {
   "cell_type": "code",
   "execution_count": 35,
   "id": "b500c06a",
   "metadata": {},
   "outputs": [],
   "source": [
    "# recall = tp/(tp + fn)\n",
    "# see page->94 for diagram.."
   ]
  },
  {
   "cell_type": "markdown",
   "id": "73fcb036",
   "metadata": {},
   "source": [
    "## precision and recall "
   ]
  },
  {
   "cell_type": "code",
   "execution_count": 27,
   "id": "011fcb04",
   "metadata": {},
   "outputs": [],
   "source": [
    "# these are classifier metrics\n",
    "from sklearn.metrics import precision_score, recall_score"
   ]
  },
  {
   "cell_type": "code",
   "execution_count": 28,
   "id": "e985c0bd",
   "metadata": {},
   "outputs": [
    {
     "data": {
      "text/plain": [
       "(0.8370879772350012, 0.6511713705958311)"
      ]
     },
     "execution_count": 28,
     "metadata": {},
     "output_type": "execute_result"
    }
   ],
   "source": [
    "precision_score(y_train_5, y_train_pred), recall_score(y_train_5, y_train_pred)\n",
    "# Now your 5-detector does not look as shiny as it did when you looked at its accuracy.\n",
    "# When it claims an image represents a 5, it is correct only 72.9% of the time. Moreover,\n",
    "# it only detects 75.6% of the 5s."
   ]
  },
  {
   "cell_type": "code",
   "execution_count": 29,
   "id": "39f91778",
   "metadata": {},
   "outputs": [],
   "source": [
    "# we combine precision and recall into a single metric called F1 score.\n",
    "# F1 score is harmonic mean of precesion and recall. \n",
    "# Whereas the regular mean treats all values equally, the harmonic mean gives \n",
    "# much more weight to low values."
   ]
  },
  {
   "cell_type": "code",
   "execution_count": 30,
   "id": "b1e01e92",
   "metadata": {},
   "outputs": [
    {
     "data": {
      "text/plain": [
       "0.7325171197343846"
      ]
     },
     "execution_count": 30,
     "metadata": {},
     "output_type": "execute_result"
    }
   ],
   "source": [
    "# F1 = 2 * (precision * recall)/(precision + recall)\n",
    "# computing F1 score\n",
    "from sklearn.metrics import f1_score\n",
    "f1_score(y_train_5, y_train_pred)"
   ]
  },
  {
   "cell_type": "code",
   "execution_count": 31,
   "id": "c4f6e9c6",
   "metadata": {},
   "outputs": [
    {
     "data": {
      "text/plain": [
       "array([2164.22030239])"
      ]
     },
     "execution_count": 31,
     "metadata": {},
     "output_type": "execute_result"
    }
   ],
   "source": [
    "# decision_function() method, which returns a\n",
    "# score for each instance, and then make predictions based on those scores using any\n",
    "# threshold you want:\n",
    "y_scores = sgd_clf.decision_function([some_digit])\n",
    "y_scores\n",
    "# read page->95"
   ]
  },
  {
   "cell_type": "code",
   "execution_count": 33,
   "id": "46fc9380",
   "metadata": {},
   "outputs": [],
   "source": [
    "threshold = 0\n",
    "y_some_digit_pred = (y_scores > threshold)"
   ]
  },
  {
   "cell_type": "code",
   "execution_count": 35,
   "id": "36e9b8b2",
   "metadata": {},
   "outputs": [
    {
     "data": {
      "text/plain": [
       "array([False])"
      ]
     },
     "execution_count": 35,
     "metadata": {},
     "output_type": "execute_result"
    }
   ],
   "source": [
    "# The SGDClassifier uses a threshold equal to 0, so the previous code returns the same\n",
    "# result as the predict() method (i.e., True). Let’s raise the threshold:\n",
    "threshold = 8000\n",
    "y_some_digit_pred = (y_scores > threshold)\n",
    "y_some_digit_pred\n",
    "# This confirms that raising the threshold decreases recall. The image actually represents\n",
    "# a 5, and the classifier detects it when the threshold is 0, but it misses it when the\n",
    "# threshold is increased to 8,000.\n",
    "\n",
    "# read page->95\n"
   ]
  },
  {
   "cell_type": "code",
   "execution_count": 43,
   "id": "71540c10",
   "metadata": {},
   "outputs": [],
   "source": [
    "# now we will decided which threshold score to use, so we first get the scores.. by using..\n",
    "y_scores = cross_val_predict(sgd_clf, X_train, y_train_5, cv=3, method=\"decision_function\")"
   ]
  },
  {
   "cell_type": "code",
   "execution_count": 44,
   "id": "30c86225",
   "metadata": {},
   "outputs": [
    {
     "data": {
      "text/plain": [
       "array([  1200.93051237, -26883.79202424, -33072.03475406, ...,\n",
       "        13272.12718981,  -7258.47203373, -16877.50840447])"
      ]
     },
     "execution_count": 44,
     "metadata": {},
     "output_type": "execute_result"
    }
   ],
   "source": [
    "y_scores\n",
    "# Now with these scores you can compute precision and recall for all possible thresholds\n",
    "# using the precision_recall_curve() function:"
   ]
  },
  {
   "cell_type": "code",
   "execution_count": 45,
   "id": "e46d0399",
   "metadata": {},
   "outputs": [],
   "source": [
    "from sklearn.metrics import precision_recall_curve\n",
    "precisions, recalls, thresholds = precision_recall_curve(y_train_5, y_scores)"
   ]
  },
  {
   "cell_type": "code",
   "execution_count": 47,
   "id": "ed6dd9d7",
   "metadata": {},
   "outputs": [
    {
     "data": {
      "image/png": "[encoded data removed]",
      "text/plain": [
       "<Figure size 432x288 with 1 Axes>"
      ]
     },
     "metadata": {
      "needs_background": "light"
     },
     "output_type": "display_data"
    }
   ],
   "source": [
    "def plot_precision_recall_vs_threshold(precisions, recalls, thresholds):\n",
    "    plt.plot(thresholds, precisions[:-1], \"b--\", label=\"Precision\")\n",
    "    plt.plot(thresholds, recalls[:-1], \"g-\", label=\"Recall\")\n",
    "    plt.legend([\"precision\", \"recall\"])\n",
    "    [...] # highlight the threshold, add the legend, axis label and grid\n",
    "plot_precision_recall_vs_threshold(precisions, recalls, thresholds)\n",
    "plt.show()"
   ]
  },
  {
   "cell_type": "code",
   "execution_count": 48,
   "id": "b868813a",
   "metadata": {},
   "outputs": [],
   "source": [
    "# see page->97..\n",
    "# we can also plot precision directly against recall see page->98"
   ]
  },
  {
   "cell_type": "code",
   "execution_count": 50,
   "id": "f258ccc9",
   "metadata": {},
   "outputs": [],
   "source": [
    "# this is for precision to be 90.. do check pages. mentioned\n",
    "threshold_90_precision = thresholds[np.argmax(precisions >= 0.90)]"
   ]
  },
  {
   "cell_type": "code",
   "execution_count": 51,
   "id": "b3f2e571",
   "metadata": {},
   "outputs": [],
   "source": [
    "# To make predictions (on the training set for now), instead of calling the classifier’s\n",
    "# predict() method, you can just run this code:\n",
    "y_train_pred_90 = (y_scores >= threshold_90_precision)"
   ]
  },
  {
   "cell_type": "code",
   "execution_count": 53,
   "id": "f645fdf6",
   "metadata": {},
   "outputs": [
    {
     "data": {
      "text/plain": [
       "(0.9000345901072293, 0.4799852425751706)"
      ]
     },
     "execution_count": 53,
     "metadata": {},
     "output_type": "execute_result"
    }
   ],
   "source": [
    "# now check predictions precision and recall\n",
    "precision_score(y_train_5, y_train_pred_90), recall_score(y_train_5, y_train_pred_90)\n"
   ]
  },
  {
   "cell_type": "code",
   "execution_count": 54,
   "id": "f35ce9c7",
   "metadata": {},
   "outputs": [],
   "source": [
    "# so in all we can train a classifier at any precision or recall.. just go through again to see how..\n",
    "# But:::: a high-precision classifier is not very useful if its recall is too low"
   ]
  },
  {
   "cell_type": "markdown",
   "id": "243e0ffa",
   "metadata": {},
   "source": [
    "## the ROC curve"
   ]
  },
  {
   "cell_type": "code",
   "execution_count": 56,
   "id": "8aa44c62",
   "metadata": {},
   "outputs": [],
   "source": [
    "# The receiver operating characteristic (ROC) curve is another common tool used with\n",
    "# binary classifiers. It is very similar to the precision/recall curve, but instead of plotting\n",
    "# precision versus recall, the ROC curve plots the true positive rate (another name\n",
    "# for recall) against the false positive rate. The FPR is the ratio of negative instances that\n",
    "# are incorrectly classified as positive. It is equal to one minus the true negative rate,\n",
    "# which is the ratio of negative instances that are correctly classified as negative. The\n",
    "# TNR is also called specificity. Hence the ROC curve plots sensitivity (recall) versus\n",
    "# 1 – specificity."
   ]
  },
  {
   "cell_type": "code",
   "execution_count": 57,
   "id": "cc1b2f52",
   "metadata": {},
   "outputs": [],
   "source": [
    "# so we need to compute TPR and FPR\n",
    "from sklearn.metrics import roc_curve\n",
    "fpr, tpr, thresholds = roc_curve(y_train_5, y_scores)"
   ]
  },
  {
   "cell_type": "code",
   "execution_count": 60,
   "id": "abca9499",
   "metadata": {},
   "outputs": [
    {
     "data": {
      "image/png": "[encoded data removed]",
      "text/plain": [
       "<Figure size 432x288 with 1 Axes>"
      ]
     },
     "metadata": {
      "needs_background": "light"
     },
     "output_type": "display_data"
    }
   ],
   "source": [
    "def plot_roc_curve(fpr, tpr, label=None):\n",
    "    plt.plot(fpr, tpr, linewidth=2, label=label)\n",
    "    plt.plot([0, 1], [0, 1], 'k--') # dashed diagonal\n",
    "    plt.legend([\"fpr\", \"tpr\"])\n",
    "    [...] # Add axis labels and grid\n",
    "plot_roc_curve(fpr, tpr)\n",
    "plt.show()"
   ]
  },
  {
   "cell_type": "code",
   "execution_count": 61,
   "id": "59912332",
   "metadata": {},
   "outputs": [
    {
     "data": {
      "text/plain": [
       "0.9604938554008616"
      ]
     },
     "execution_count": 61,
     "metadata": {},
     "output_type": "execute_result"
    }
   ],
   "source": [
    "# Once again there is a tradeoff: the higher the recall (TPR), the more false positives\n",
    "# (FPR) the classifier produces. The dotted line represents the ROC curve of a purely\n",
    "# random classifier; a good classifier stays as far away from that line as possible (toward\n",
    "# the top-left corner).\n",
    "# One way to compare classifiers is to measure the area under the curve (AUC). A perfect\n",
    "# classifier will have a ROC AUC equal to 1, whereas a purely random classifier will\n",
    "# have a ROC AUC equal to 0.5. Scikit-Learn provides a function to compute the ROC\n",
    "# AUC:\n",
    "from sklearn.metrics import roc_auc_score\n",
    "roc_auc_score(y_train_5, y_scores)"
   ]
  },
  {
   "cell_type": "code",
   "execution_count": 62,
   "id": "c4f54818",
   "metadata": {},
   "outputs": [],
   "source": [
    "# do read page->100 , tells when to use which curve"
   ]
  },
  {
   "cell_type": "code",
   "execution_count": 66,
   "id": "ccfbc83f",
   "metadata": {},
   "outputs": [],
   "source": [
    "# now we will compare the sdg classifier wiht a randomforest one\n",
    "# don't worry we will learn randomforest classifier in chapter 7\n",
    "\n",
    "# skipping the page->101 cause ... we will learn it later so..\n",
    "\n",
    "# Hopefully you now know how to train binary classifiers, choose the appropriate metric\n",
    "# for your task, evaluate your classifiers using cross-validation, select the precision/\n",
    "# recall tradeoff that fits your needs, and compare various models using ROC curves\n",
    "# and ROC AUC scores. Now let’s try to detect more than just the 5s."
   ]
  },
  {
   "cell_type": "markdown",
   "id": "9fd591e3",
   "metadata": {},
   "source": [
    "## Multiclass classification"
   ]
  },
  {
   "cell_type": "code",
   "execution_count": 67,
   "id": "e1d0af6f",
   "metadata": {},
   "outputs": [],
   "source": [
    "# skipped whole chapter from now on ..upto 113 i.e. next chapter\n",
    "# do read it after .. learning all about these..."
   ]
  },
  {
   "cell_type": "code",
   "execution_count": null,
   "id": "9399944e",
   "metadata": {},
   "outputs": [],
   "source": []
  }
 ],
 "metadata": {
  "interpreter": {
   "hash": "2dc219ed53c2cce5e59d54e270ac1490a15711bf3fdcda305a3525d04a3293de"
  },
  "kernelspec": {
   "display_name": "Python 3 (ipykernel)",
   "language": "python",
   "name": "python3"
  },
  "language_info": {
   "codemirror_mode": {
    "name": "ipython",
    "version": 3
   },
   "file_extension": ".py",
   "mimetype": "text/x-python",
   "name": "python",
   "nbconvert_exporter": "python",
   "pygments_lexer": "ipython3",
   "version": "3.9.0"
  }
 },
 "nbformat": 4,
 "nbformat_minor": 5
}
