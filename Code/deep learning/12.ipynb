{
 "cells": [
  {
   "cell_type": "code",
   "execution_count": 1,
   "id": "03971731",
   "metadata": {},
   "outputs": [],
   "source": [
    "import pandas as pd\n",
    "import numpy as np\n",
    "import tensorflow as tf\n",
    "import keras\n",
    "import matplotlib.pyplot as plt\n",
    "import matplotlib as mpl\n",
    "%matplotlib inline"
   ]
  },
  {
   "cell_type": "code",
   "execution_count": 2,
   "id": "2b0cedea",
   "metadata": {},
   "outputs": [
    {
     "name": "stdout",
     "output_type": "stream",
     "text": [
      "tf.Tensor(\n",
      "[[1 2 3]\n",
      " [4 5 6]], shape=(2, 3), dtype=int32)\n"
     ]
    },
    {
     "data": {
      "text/plain": [
       "<tf.Tensor: shape=(), dtype=int32, numpy=10>"
      ]
     },
     "execution_count": 2,
     "metadata": {},
     "output_type": "execute_result"
    }
   ],
   "source": [
    "print(tf.constant([[1,2,3],[4,5,6]])) # matrix\n",
    "tf.constant(10) # scalar"
   ]
  },
  {
   "cell_type": "code",
   "execution_count": 3,
   "id": "8e2ca34b",
   "metadata": {},
   "outputs": [
    {
     "data": {
      "text/plain": [
       "(TensorShape([2, 3]), tf.int32)"
      ]
     },
     "execution_count": 3,
     "metadata": {},
     "output_type": "execute_result"
    }
   ],
   "source": [
    "t = tf.constant([[1,2,3],[4,5,6]])\n",
    "t.shape, t.dtype"
   ]
  },
  {
   "cell_type": "code",
   "execution_count": 4,
   "id": "a80ed808",
   "metadata": {},
   "outputs": [
    {
     "data": {
      "text/plain": [
       "<tf.Tensor: shape=(2, 1), dtype=int32, numpy=\n",
       "array([[2],\n",
       "       [5]])>"
      ]
     },
     "execution_count": 4,
     "metadata": {},
     "output_type": "execute_result"
    }
   ],
   "source": [
    "t[:,:1] # indexing same as numpy\n",
    "t[..., 1, tf.newaxis] # there is also a np.newaxis "
   ]
  },
  {
   "cell_type": "markdown",
   "id": "06b3e92c",
   "metadata": {},
   "source": [
    "## operations"
   ]
  },
  {
   "cell_type": "code",
   "execution_count": 5,
   "id": "e2a55dbe",
   "metadata": {},
   "outputs": [
    {
     "data": {
      "text/plain": [
       "<tf.Tensor: shape=(2, 3), dtype=int32, numpy=\n",
       "array([[11, 12, 13],\n",
       "       [14, 15, 16]])>"
      ]
     },
     "execution_count": 5,
     "metadata": {},
     "output_type": "execute_result"
    }
   ],
   "source": [
    "t+10"
   ]
  },
  {
   "cell_type": "code",
   "execution_count": 6,
   "id": "42d61bb6",
   "metadata": {},
   "outputs": [
    {
     "data": {
      "text/plain": [
       "(<tf.Tensor: shape=(2, 3), dtype=int32, numpy=\n",
       " array([[ 1,  4,  9],\n",
       "        [16, 25, 36]])>,\n",
       " <tf.Tensor: shape=(2, 2), dtype=int32, numpy=\n",
       " array([[14, 32],\n",
       "        [32, 77]])>)"
      ]
     },
     "execution_count": 6,
     "metadata": {},
     "output_type": "execute_result"
    }
   ],
   "source": [
    "tf.square(t), t @ tf.transpose(t)\n",
    "# @ is here for matrix multiplication, you can also use tf.matmul()\n",
    "# page->499 for more."
   ]
  },
  {
   "cell_type": "code",
   "execution_count": 7,
   "id": "a08f7e25",
   "metadata": {},
   "outputs": [
    {
     "data": {
      "text/plain": [
       "<tf.Tensor: shape=(3, 2), dtype=int32, numpy=\n",
       "array([[11, 26],\n",
       "       [14, 35],\n",
       "       [19, 46]])>"
      ]
     },
     "execution_count": 7,
     "metadata": {},
     "output_type": "execute_result"
    }
   ],
   "source": [
    "# The Keras API has its own low-level API, located in keras.backend.\n",
    "# It includes functions like square(), exp(), and sqrt(). In tf.keras,\n",
    "# these functions generally just call the corresponding TensorFlow\n",
    "# operations. If you want to write code that will be portable to other\n",
    "# Keras implementations, you should use these Keras functions.\n",
    "# However, they only cover a subset of all functions available in\n",
    "# TensorFlow, so in this book we will use the TensorFlow operations\n",
    "# directly. Here is as simple example using keras.backend, which is\n",
    "# commonly named K for short:\n",
    "from tensorflow import keras\n",
    "K = keras.backend\n",
    "K.square(K.transpose(t)) + 10"
   ]
  },
  {
   "cell_type": "code",
   "execution_count": 8,
   "id": "9a77f7ab",
   "metadata": {},
   "outputs": [],
   "source": [
    "# you can create a tensor from a NumPy\n",
    "# array, and vice versa.\n",
    "\n",
    "a = np.array([1,2,3])\n",
    "t = tf.constant(a)\n",
    "# t.numpy() or np.array(t) to convert to numpy"
   ]
  },
  {
   "cell_type": "code",
   "execution_count": 10,
   "id": "033df0ae",
   "metadata": {},
   "outputs": [],
   "source": [
    "## warning\n",
    "\n",
    "# Notice that NumPy uses 64-bit precision by default, while TensorFlow uses 32-bit.\n",
    "# This is because 32-bit precision is generally more than enough for neural networks,\n",
    "# plus it runs faster and uses less RAM. So when you create a tensor from a NumPy\n",
    "# array, make sure to set dtype=tf.float32."
   ]
  },
  {
   "cell_type": "markdown",
   "id": "f41afd5a",
   "metadata": {},
   "source": [
    "## Type conversions"
   ]
  },
  {
   "cell_type": "code",
   "execution_count": 11,
   "id": "d36a2e40",
   "metadata": {},
   "outputs": [],
   "source": [
    "# Type conversions can significantly hurt performance, and they can easily\n",
    "# go unnoticed when they are done automatically. To avoid this, TensorFlow\n",
    "# does not perform any type conversions automatically: it just raises an\n",
    "# exception if you try to execute an operation on tensors with incompatible\n",
    "# types. For example, you cannot add a float tensor and an integer tensor,\n",
    "# and you cannot even add a 32-bit float and a 64-bit float:"
   ]
  },
  {
   "cell_type": "code",
   "execution_count": 12,
   "id": "71ce779e",
   "metadata": {},
   "outputs": [],
   "source": [
    "# tf.constant(2.) + tf.constant(40) error\n",
    "\n",
    "# This may be a bit annoying at first, but remember that it’s for a good\n",
    "# cause! And of course you can use tf.cast() when you really need to\n",
    "# convert types:"
   ]
  },
  {
   "cell_type": "code",
   "execution_count": 13,
   "id": "1b43fdb6",
   "metadata": {},
   "outputs": [
    {
     "data": {
      "text/plain": [
       "<tf.Tensor: shape=(), dtype=float32, numpy=42.0>"
      ]
     },
     "execution_count": 13,
     "metadata": {},
     "output_type": "execute_result"
    }
   ],
   "source": [
    "t2 = tf.constant(40., dtype=tf.float64)\n",
    "tf.constant(2.0) + tf.cast(t2, tf.float32)\n",
    "# we have to cast it to float32 cause it is by default 32 for less Ram usage and faster.. yk."
   ]
  },
  {
   "cell_type": "markdown",
   "id": "79878735",
   "metadata": {},
   "source": [
    "## Variables"
   ]
  },
  {
   "cell_type": "code",
   "execution_count": 14,
   "id": "35ddf0b6",
   "metadata": {},
   "outputs": [
    {
     "data": {
      "text/plain": [
       "<tf.Variable 'UnreadVariable' shape=(2, 3) dtype=int32, numpy=\n",
       "array([[100,  42,   6],\n",
       "       [  8,  10, 200]])>"
      ]
     },
     "execution_count": 14,
     "metadata": {},
     "output_type": "execute_result"
    }
   ],
   "source": [
    "# as constant cannot be modified we need variables as we need to change weights in backprop..\n",
    "v = tf.Variable([[1,2,3],[4,5,6]])\n",
    "\n",
    "# it can also be modified in place using the assign()\n",
    "# method (or assign_add() or assign_sub(), which increment or\n",
    "# decrement the variable by the given value). You can also modify\n",
    "# individual cells (or slices), by using the cell’s (or slice’s) assign()\n",
    "# method (direct item assignment will not work) or by using the\n",
    "# scatter_update() or scatter_nd_update() methods:\n",
    "\n",
    "v.assign(2 * v)\n",
    "v[0, 1].assign(42)\n",
    "v.scatter_nd_update(indices=[[0,0],[1,2]], updates=[100,200])"
   ]
  },
  {
   "cell_type": "code",
   "execution_count": 15,
   "id": "16d9092c",
   "metadata": {},
   "outputs": [],
   "source": [
    "# other data structures\n",
    "# page->503"
   ]
  },
  {
   "cell_type": "markdown",
   "id": "b416a17a",
   "metadata": {},
   "source": [
    "## Customizing Models and Training Algorithms"
   ]
  },
  {
   "cell_type": "code",
   "execution_count": 17,
   "id": "80fd047a",
   "metadata": {},
   "outputs": [],
   "source": [
    "# Custom Loss Function\n",
    "\n",
    "# Just create a function that\n",
    "# takes the labels and predictions as arguments, and use TensorFlow\n",
    "# operations to compute every instance’s loss:\n",
    "\n",
    "# Huber loss \n",
    "# this is also avaliable in keras.losses.Huber class\n",
    "def huber_fn(y_true, y_pred):\n",
    "    error = y_true - y_pred\n",
    "    is_small_error = tf.abs(error) < 1\n",
    "    squared_loss = tf.square(error) / 2\n",
    "    linear_loss = tf.abs(error) - 0.5\n",
    "    return tf.where(is_small_error, squared_loss, linear_loss)\n",
    "\n",
    "# It is also preferable to return a tensor containing one loss per instance,\n",
    "# rather than returning the mean loss. This way, Keras can apply class\n",
    "# weights or sample weights when requested"
   ]
  },
  {
   "cell_type": "code",
   "execution_count": 20,
   "id": "35bc0d36",
   "metadata": {},
   "outputs": [],
   "source": [
    "# then compile it using the loss function\n",
    "model.compile(loss=huber_fn, optimizer=\"nadam\", metrics=[\"mae\"])"
   ]
  },
  {
   "cell_type": "markdown",
   "id": "bde25ea3",
   "metadata": {},
   "source": [
    "# more pratical implementation"
   ]
  },
  {
   "cell_type": "code",
   "execution_count": 21,
   "id": "733b8cda",
   "metadata": {},
   "outputs": [],
   "source": [
    "from sklearn.datasets import fetch_california_housing\n",
    "from sklearn.model_selection import train_test_split\n",
    "from sklearn.preprocessing import StandardScaler\n",
    "\n",
    "housing = fetch_california_housing()\n",
    "X_train_full, X_test, y_train_full, y_test = train_test_split(\n",
    "    housing.data, housing.target.reshape(-1, 1), random_state=42)\n",
    "X_train, X_valid, y_train, y_valid = train_test_split(\n",
    "    X_train_full, y_train_full, random_state=42)\n",
    "\n",
    "scaler = StandardScaler()\n",
    "X_train_scaled = scaler.fit_transform(X_train)\n",
    "X_valid_scaled = scaler.transform(X_valid)\n",
    "X_test_scaled = scaler.transform(X_test)"
   ]
  },
  {
   "cell_type": "code",
   "execution_count": 22,
   "id": "b88e0de2",
   "metadata": {},
   "outputs": [],
   "source": [
    "def huber_fn(y_true, y_pred):\n",
    "    error = y_true - y_pred\n",
    "    is_small_error = tf.abs(error) < 1\n",
    "    squared_loss = tf.square(error) / 2\n",
    "    linear_loss  = tf.abs(error) - 0.5\n",
    "    return tf.where(is_small_error, squared_loss, linear_loss)"
   ]
  },
  {
   "cell_type": "code",
   "execution_count": 23,
   "id": "586385a4",
   "metadata": {},
   "outputs": [
    {
     "data": {
      "image/png": "[encoded data removed]",
      "text/plain": [
       "<Figure size 576x252 with 1 Axes>"
      ]
     },
     "metadata": {
      "needs_background": "light"
     },
     "output_type": "display_data"
    }
   ],
   "source": [
    "plt.figure(figsize=(8, 3.5))\n",
    "z = np.linspace(-4, 4, 200)\n",
    "plt.plot(z, huber_fn(0, z), \"b-\", linewidth=2, label=\"huber($z$)\")\n",
    "plt.plot(z, z**2 / 2, \"b:\", linewidth=1, label=r\"$\\frac{1}{2}z^2$\")\n",
    "plt.plot([-1, -1], [0, huber_fn(0., -1.)], \"r--\")\n",
    "plt.plot([1, 1], [0, huber_fn(0., 1.)], \"r--\")\n",
    "plt.gca().axhline(y=0, color='k')\n",
    "plt.gca().axvline(x=0, color='k')\n",
    "plt.axis([-4, 4, 0, 4])\n",
    "plt.grid(True)\n",
    "plt.xlabel(\"$z$\")\n",
    "plt.legend(fontsize=14)\n",
    "plt.title(\"Huber loss\", fontsize=14)\n",
    "plt.show()"
   ]
  },
  {
   "cell_type": "code",
   "execution_count": 24,
   "id": "0bd55f46",
   "metadata": {},
   "outputs": [],
   "source": [
    "input_shape = X_train.shape[1:]\n",
    "\n",
    "model = keras.models.Sequential([\n",
    "    keras.layers.Dense(30, activation=\"selu\", kernel_initializer=\"lecun_normal\",\n",
    "                       input_shape=input_shape),\n",
    "    keras.layers.Dense(1),\n",
    "])"
   ]
  },
  {
   "cell_type": "code",
   "execution_count": 25,
   "id": "842334ca",
   "metadata": {},
   "outputs": [],
   "source": [
    "model.compile(loss=huber_fn, optimizer=\"nadam\", metrics=[\"mae\"])"
   ]
  },
  {
   "cell_type": "code",
   "execution_count": 26,
   "id": "ca609fd7",
   "metadata": {},
   "outputs": [
    {
     "name": "stdout",
     "output_type": "stream",
     "text": [
      "Epoch 1/2\n",
      "363/363 [==============================] - 1s 2ms/step - loss: 0.6391 - mae: 0.9920 - val_loss: 0.2114 - val_mae: 0.5018\n",
      "Epoch 2/2\n",
      "363/363 [==============================] - 1s 2ms/step - loss: 0.2060 - mae: 0.4958 - val_loss: 0.2201 - val_mae: 0.5023\n"
     ]
    },
    {
     "data": {
      "text/plain": [
       "<keras.callbacks.History at 0x1ccbf7d8490>"
      ]
     },
     "execution_count": 26,
     "metadata": {},
     "output_type": "execute_result"
    }
   ],
   "source": [
    "model.fit(X_train_scaled, y_train, epochs=2,\n",
    "          validation_data=(X_valid_scaled, y_valid))"
   ]
  },
  {
   "cell_type": "markdown",
   "id": "5df4fd86",
   "metadata": {},
   "source": [
    "## Saving/Loading Models with Custom Objects"
   ]
  },
  {
   "cell_type": "code",
   "execution_count": 27,
   "id": "97684bbe",
   "metadata": {},
   "outputs": [],
   "source": [
    "model.save(\"my_model_with_a_custom_loss.h5\")"
   ]
  },
  {
   "cell_type": "code",
   "execution_count": 28,
   "id": "caa86323",
   "metadata": {},
   "outputs": [],
   "source": [
    "# Saving a model containing a custom loss function works fine, as Keras\n",
    "# saves the name of the function. Whenever you load it, you’ll need to\n",
    "# provide a dictionary that maps the function name to the actual function.\n",
    "# More generally, when you load a model containing custom objects, you\n",
    "# need to map the names to the objects:\n",
    "model = keras.models.load_model(\"my_model_with_a_custom_loss.h5\",\n",
    "custom_objects={\"huber_fn\": huber_fn})"
   ]
  },
  {
   "cell_type": "code",
   "execution_count": 29,
   "id": "29e06ce2",
   "metadata": {},
   "outputs": [
    {
     "name": "stdout",
     "output_type": "stream",
     "text": [
      "Epoch 1/2\n",
      "363/363 [==============================] - 1s 2ms/step - loss: 0.1964 - mae: 0.4823 - val_loss: 0.2001 - val_mae: 0.4793\n",
      "Epoch 2/2\n",
      "363/363 [==============================] - 1s 2ms/step - loss: 0.1922 - mae: 0.4761 - val_loss: 0.1845 - val_mae: 0.4645\n"
     ]
    },
    {
     "data": {
      "text/plain": [
       "<keras.callbacks.History at 0x1ccc1b94790>"
      ]
     },
     "execution_count": 29,
     "metadata": {},
     "output_type": "execute_result"
    }
   ],
   "source": [
    "model.fit(X_train_scaled, y_train, epochs=2,\n",
    "          validation_data=(X_valid_scaled, y_valid))"
   ]
  },
  {
   "cell_type": "code",
   "execution_count": 30,
   "id": "004e57d3",
   "metadata": {},
   "outputs": [],
   "source": [
    "# With the current implementation, any error between –1 and 1 is considered\n",
    "# “small.” But what if you want a different threshold? One solution is to\n",
    "# create a function that creates a configured loss function:\n",
    "\n",
    "\n",
    "def create_huber(threshold=1.0):\n",
    "    def huber_fn(y_true, y_pred):\n",
    "        error = y_true - y_pred\n",
    "        is_small_error = tf.abs(error) < threshold\n",
    "        squared_loss = tf.square(error) / 2\n",
    "        linear_loss  = threshold * tf.abs(error) - threshold**2 / 2\n",
    "        return tf.where(is_small_error, squared_loss, linear_loss)\n",
    "    return huber_fn"
   ]
  },
  {
   "cell_type": "code",
   "execution_count": 31,
   "id": "57e73272",
   "metadata": {},
   "outputs": [],
   "source": [
    "model.compile(loss=create_huber(2.0), optimizer=\"nadam\", metrics=[\"mae\"])"
   ]
  },
  {
   "cell_type": "code",
   "execution_count": 32,
   "id": "e0c7cf84",
   "metadata": {},
   "outputs": [
    {
     "name": "stdout",
     "output_type": "stream",
     "text": [
      "Epoch 1/2\n",
      "363/363 [==============================] - 1s 2ms/step - loss: 0.2142 - mae: 0.4763 - val_loss: 0.2273 - val_mae: 0.4715\n",
      "Epoch 2/2\n",
      "363/363 [==============================] - 1s 2ms/step - loss: 0.2103 - mae: 0.4722 - val_loss: 0.2260 - val_mae: 0.4772\n"
     ]
    },
    {
     "data": {
      "text/plain": [
       "<keras.callbacks.History at 0x1ccc1c84160>"
      ]
     },
     "execution_count": 32,
     "metadata": {},
     "output_type": "execute_result"
    }
   ],
   "source": [
    "model.fit(X_train_scaled, y_train, epochs=2,\n",
    "          validation_data=(X_valid_scaled, y_valid))"
   ]
  },
  {
   "cell_type": "code",
   "execution_count": 33,
   "id": "9e48cb29",
   "metadata": {},
   "outputs": [],
   "source": [
    "model.save(\"my_model_with_a_custom_loss_threshold_2.h5\")"
   ]
  },
  {
   "cell_type": "code",
   "execution_count": 34,
   "id": "7e86f77b",
   "metadata": {},
   "outputs": [],
   "source": [
    "# Unfortunately, when you save the model, the threshold will not be saved.\n",
    "# This means that you will have to specify the threshold value when\n",
    "# loading the model (note that the name to use is \"huber_fn\", which is the\n",
    "# name of the function you gave Keras, not the name of the function that\n",
    "# created it):\n",
    "model = keras.models.load_model(\"my_model_with_a_custom_loss_threshold_2.h5\",\n",
    "custom_objects={\"huber_fn\": create_huber(2.0)})"
   ]
  },
  {
   "cell_type": "code",
   "execution_count": 35,
   "id": "9aa14207",
   "metadata": {},
   "outputs": [
    {
     "name": "stdout",
     "output_type": "stream",
     "text": [
      "Epoch 1/2\n",
      "363/363 [==============================] - 1s 2ms/step - loss: 0.2061 - mae: 0.4680 - val_loss: 0.2079 - val_mae: 0.4679\n",
      "Epoch 2/2\n",
      "363/363 [==============================] - 1s 2ms/step - loss: 0.2056 - mae: 0.4668 - val_loss: 0.2040 - val_mae: 0.4573\n"
     ]
    },
    {
     "data": {
      "text/plain": [
       "<keras.callbacks.History at 0x1ccc2ddb6a0>"
      ]
     },
     "execution_count": 35,
     "metadata": {},
     "output_type": "execute_result"
    }
   ],
   "source": [
    "model.fit(X_train_scaled, y_train, epochs=2,\n",
    "          validation_data=(X_valid_scaled, y_valid))"
   ]
  },
  {
   "cell_type": "code",
   "execution_count": 36,
   "id": "3642ee32",
   "metadata": {},
   "outputs": [],
   "source": [
    "# You can solve this by creating a subclass of the keras.losses.Loss class,\n",
    "# and then implementing its get_config() method:\n",
    "\n",
    "class HuberLoss(keras.losses.Loss):\n",
    "    def __init__(self, threshold=1.0, **kwargs):\n",
    "        self.threshold = threshold\n",
    "        super().__init__(**kwargs)\n",
    "    def call(self, y_true, y_pred):\n",
    "        error = y_true - y_pred\n",
    "        is_small_error = tf.abs(error) < self.threshold\n",
    "        squared_loss = tf.square(error) / 2\n",
    "        linear_loss  = self.threshold * tf.abs(error) - self.threshold**2 / 2\n",
    "        return tf.where(is_small_error, squared_loss, linear_loss)\n",
    "    def get_config(self):\n",
    "        base_config = super().get_config()\n",
    "        return {**base_config, \"threshold\": self.threshold}"
   ]
  },
  {
   "cell_type": "code",
   "execution_count": 37,
   "id": "74737ddb",
   "metadata": {},
   "outputs": [],
   "source": [
    "model = keras.models.Sequential([\n",
    "    keras.layers.Dense(30, activation=\"selu\", kernel_initializer=\"lecun_normal\",\n",
    "                       input_shape=input_shape),\n",
    "    keras.layers.Dense(1),\n",
    "])"
   ]
  },
  {
   "cell_type": "code",
   "execution_count": 38,
   "id": "475a8464",
   "metadata": {},
   "outputs": [],
   "source": [
    "model.compile(loss=HuberLoss(2.), optimizer=\"nadam\", metrics=[\"mae\"])"
   ]
  },
  {
   "cell_type": "code",
   "execution_count": 39,
   "id": "59cf10fd",
   "metadata": {},
   "outputs": [
    {
     "name": "stdout",
     "output_type": "stream",
     "text": [
      "Epoch 1/2\n",
      "363/363 [==============================] - 1s 2ms/step - loss: 0.7999 - mae: 0.9673 - val_loss: 0.4065 - val_mae: 0.6106\n",
      "Epoch 2/2\n",
      "363/363 [==============================] - 1s 2ms/step - loss: 0.2570 - mae: 0.5304 - val_loss: 0.2830 - val_mae: 0.5250\n"
     ]
    },
    {
     "data": {
      "text/plain": [
       "<keras.callbacks.History at 0x1ccc3ea20d0>"
      ]
     },
     "execution_count": 39,
     "metadata": {},
     "output_type": "execute_result"
    }
   ],
   "source": [
    "model.fit(X_train_scaled, y_train, epochs=2,\n",
    "          validation_data=(X_valid_scaled, y_valid))\n"
   ]
  },
  {
   "cell_type": "code",
   "execution_count": 41,
   "id": "28d075ef",
   "metadata": {},
   "outputs": [],
   "source": [
    "model.save(\"my_model_with_a_custom_loss_class.h5\")"
   ]
  },
  {
   "cell_type": "code",
   "execution_count": 42,
   "id": "15e5b409",
   "metadata": {},
   "outputs": [],
   "source": [
    "model = keras.models.load_model(\"my_model_with_a_custom_loss_class.h5\",\n",
    "                                custom_objects={\"HuberLoss\": HuberLoss})"
   ]
  },
  {
   "cell_type": "code",
   "execution_count": 43,
   "id": "4a5f7c39",
   "metadata": {},
   "outputs": [
    {
     "name": "stdout",
     "output_type": "stream",
     "text": [
      "Epoch 1/2\n",
      "363/363 [==============================] - 1s 2ms/step - loss: 0.2360 - mae: 0.5069 - val_loss: 0.2125 - val_mae: 0.4805\n",
      "Epoch 2/2\n",
      "363/363 [==============================] - 1s 2ms/step - loss: 0.2252 - mae: 0.4961 - val_loss: 0.2570 - val_mae: 0.4961\n"
     ]
    },
    {
     "data": {
      "text/plain": [
       "<keras.callbacks.History at 0x1ccc50052b0>"
      ]
     },
     "execution_count": 43,
     "metadata": {},
     "output_type": "execute_result"
    }
   ],
   "source": [
    "model.fit(X_train_scaled, y_train, epochs=2,\n",
    "          validation_data=(X_valid_scaled, y_valid))"
   ]
  },
  {
   "cell_type": "code",
   "execution_count": 44,
   "id": "cb89e5ce",
   "metadata": {},
   "outputs": [
    {
     "data": {
      "text/plain": [
       "2.0"
      ]
     },
     "execution_count": 44,
     "metadata": {},
     "output_type": "execute_result"
    }
   ],
   "source": [
    "model.loss.threshold"
   ]
  },
  {
   "cell_type": "markdown",
   "id": "908cc72c",
   "metadata": {},
   "source": [
    "## Other Custom Functions"
   ]
  },
  {
   "cell_type": "code",
   "execution_count": 45,
   "id": "e4e026c4",
   "metadata": {},
   "outputs": [],
   "source": [
    "keras.backend.clear_session()\n",
    "np.random.seed(42)\n",
    "tf.random.set_seed(42)"
   ]
  },
  {
   "cell_type": "code",
   "execution_count": 46,
   "id": "bc76f68c",
   "metadata": {},
   "outputs": [],
   "source": [
    "def my_softplus(z): # return value is just tf.nn.softplus(z)\n",
    "    return tf.math.log(tf.exp(z) + 1.0)\n",
    "\n",
    "def my_glorot_initializer(shape, dtype=tf.float32):\n",
    "    stddev = tf.sqrt(2. / (shape[0] + shape[1]))\n",
    "    return tf.random.normal(shape, stddev=stddev, dtype=dtype)\n",
    "\n",
    "def my_l1_regularizer(weights):\n",
    "    return tf.reduce_sum(tf.abs(0.01 * weights))\n",
    "\n",
    "def my_positive_weights(weights): # return value is just tf.nn.relu(weights)\n",
    "    return tf.where(weights < 0., tf.zeros_like(weights), weights)"
   ]
  },
  {
   "cell_type": "code",
   "execution_count": 47,
   "id": "3c820946",
   "metadata": {},
   "outputs": [],
   "source": [
    "layer = keras.layers.Dense(1, activation=my_softplus,\n",
    "                           kernel_initializer=my_glorot_initializer,\n",
    "                           kernel_regularizer=my_l1_regularizer,\n",
    "                           kernel_constraint=my_positive_weights)"
   ]
  },
  {
   "cell_type": "code",
   "execution_count": 48,
   "id": "e737d934",
   "metadata": {},
   "outputs": [],
   "source": [
    "keras.backend.clear_session()\n",
    "np.random.seed(42)\n",
    "tf.random.set_seed(42)"
   ]
  },
  {
   "cell_type": "code",
   "execution_count": 49,
   "id": "12f49c99",
   "metadata": {},
   "outputs": [],
   "source": [
    "model = keras.models.Sequential([\n",
    "    keras.layers.Dense(30, activation=\"selu\", kernel_initializer=\"lecun_normal\",\n",
    "                       input_shape=input_shape),\n",
    "    keras.layers.Dense(1, activation=my_softplus,\n",
    "                       kernel_regularizer=my_l1_regularizer,\n",
    "                       kernel_constraint=my_positive_weights,\n",
    "                       kernel_initializer=my_glorot_initializer),\n",
    "])"
   ]
  },
  {
   "cell_type": "code",
   "execution_count": 50,
   "id": "16de614c",
   "metadata": {},
   "outputs": [],
   "source": [
    "# The activation function will be applied to the output of this Dense layer,\n",
    "# and its result will be passed on to the next layer. The layer’s weights will\n",
    "# be initialized using the value returned by the initializer. At each training\n",
    "# step the weights will be passed to the regularization function to compute\n",
    "# the regularization loss, which will be added to the main loss to get the\n",
    "# final loss used for training. Finally, the constraint function will be called\n",
    "# after each training step, and the layer’s weights will be replaced by the\n",
    "# constrained weights."
   ]
  },
  {
   "cell_type": "code",
   "execution_count": 51,
   "id": "634c8b9c",
   "metadata": {},
   "outputs": [],
   "source": [
    "model.compile(loss=\"mse\", optimizer=\"nadam\", metrics=[\"mae\"])"
   ]
  },
  {
   "cell_type": "code",
   "execution_count": 52,
   "id": "769d9e0a",
   "metadata": {},
   "outputs": [
    {
     "name": "stdout",
     "output_type": "stream",
     "text": [
      "Epoch 1/2\n",
      "363/363 [==============================] - 1s 2ms/step - loss: 1.5542 - mae: 0.8962 - val_loss: 1.4154 - val_mae: 0.5607\n",
      "Epoch 2/2\n",
      "363/363 [==============================] - 1s 1ms/step - loss: 0.5943 - mae: 0.5256 - val_loss: 1.4399 - val_mae: 0.5137\n"
     ]
    },
    {
     "data": {
      "text/plain": [
       "<keras.callbacks.History at 0x1ccc50ecdf0>"
      ]
     },
     "execution_count": 52,
     "metadata": {},
     "output_type": "execute_result"
    }
   ],
   "source": [
    "model.fit(X_train_scaled, y_train, epochs=2,\n",
    "          validation_data=(X_valid_scaled, y_valid))"
   ]
  },
  {
   "cell_type": "code",
   "execution_count": 53,
   "id": "d966a968",
   "metadata": {},
   "outputs": [],
   "source": [
    "# If a function has hyperparameters that need to be saved along with the\n",
    "# model, then you will want to subclass the appropriate class, such as\n",
    "# keras.regularizers.Regularizer, keras.constraints.Constraint,\n",
    "# keras.initializers.Initializer, or keras.layers.Layer (for any\n",
    "# layer, including activation functions). Much like we did for the custom\n",
    "# loss, here is a simple class for ℓ regularization that saves its factor\n",
    "# hyperparameter (this time we do not need to call the parent constructor or\n",
    "# the get_config() method, as they are not defined by the parent class):\n",
    "# class MyL1Regularizer(keras.regularizers.Regularizer):\n",
    "# def __init__(self, factor):\n",
    "# self.factor = factor\n",
    "# def __call__(self, weights):\n",
    "# return tf.reduce_sum(tf.abs(self.factor * weights))\n",
    "# def get_config(self):\n",
    "# return {\"factor\": self.factor}"
   ]
  },
  {
   "cell_type": "markdown",
   "id": "489098da",
   "metadata": {},
   "source": [
    "## Custom metrics"
   ]
  },
  {
   "cell_type": "code",
   "execution_count": 54,
   "id": "b0a1bc30",
   "metadata": {},
   "outputs": [],
   "source": [
    "# model.compile(loss=\"mse\", optimizer=\"nadam\", metrics=[create_huber(2.0)])\n",
    "# create_huber() created earlier"
   ]
  },
  {
   "cell_type": "code",
   "execution_count": 55,
   "id": "07d28046",
   "metadata": {},
   "outputs": [],
   "source": [
    "# For each batch during training, Keras will compute this metric and keep\n",
    "# track of its mean since the beginning of the epoch. Most of the time, this is\n",
    "# exactly what you want. But not always! Consider a binary classifier’s\n",
    "# precision, for example. As we saw in Chapter 3, precision is the number of\n",
    "# true positives divided by the number of positive predictions (including\n",
    "# both true positives and false positives). Suppose the model made five\n",
    "# positive predictions in the first batch, four of which were correct: that’s\n",
    "# 80% precision. Then suppose the model made three positive predictions in\n",
    "# the second batch, but they were all incorrect: that’s 0% precision for the\n",
    "# second batch. If you just compute the mean of these two precisions, you\n",
    "# get 40%. But wait a second—that’s not the model’s precision over these\n",
    "# two batches! Indeed, there were a total of four true positives (4 + 0) out of\n",
    "# eight positive predictions (5 + 3), so the overall precision is 50%, not\n",
    "# 40%. What we need is an object that can keep track of the number of true\n",
    "# positives and the number of false positives and that can compute their\n",
    "# ratio when requested. This is precisely what the\n",
    "# keras.metrics.Precision class does:"
   ]
  },
  {
   "cell_type": "markdown",
   "id": "0ad0b51b",
   "metadata": {},
   "source": [
    "explanation of what's going on :\n",
    "the thing is we could have used create_huber as a metric like we do during model.compile(....metrics=[create_huber(2.0]), but this would not have worked that well cause read upper part, so what to do then. ig we have to create a streaming metric read below. so we could transform or create a HuberMetrix see \n",
    "below..."
   ]
  },
  {
   "cell_type": "code",
   "execution_count": 57,
   "id": "e89ee8cb",
   "metadata": {},
   "outputs": [
    {
     "name": "stdout",
     "output_type": "stream",
     "text": [
      "tf.Tensor(0.8, shape=(), dtype=float32)\n",
      "tf.Tensor(0.5, shape=(), dtype=float32)\n"
     ]
    }
   ],
   "source": [
    "precision = keras.metrics.Precision()\n",
    "print(precision([0, 1, 1, 1, 0, 1, 0, 1], [1, 1, 0, 1, 0, 1, 0, 1]))\n",
    "print(precision([0, 1, 0, 0, 1, 0, 1, 1], [1, 0, 1, 1, 0, 0, 0, 0]))\n",
    "# In this example, we created a Precision object, then we used it like a\n",
    "# function, passing it the labels and predictions for the first batch, then for\n",
    "# the second batch (note that we could also have passed sample weights). We\n",
    "# used the same number of true and false positives as in the example we just\n",
    "# discussed. After the first batch, it returns a precision of 80%; then after the\n",
    "# second batch, it returns 50% (which is the overall precision so far, not the\n",
    "# second batch’s precision). This is called a streaming metric (or stateful metric),\n",
    "# as it is gradually updated, batch after batch."
   ]
  },
  {
   "cell_type": "code",
   "execution_count": 58,
   "id": "052f0455",
   "metadata": {},
   "outputs": [],
   "source": [
    "class HuberMetric(keras.metrics.Metric):\n",
    "    def __init__(self, threshold=1.0, **kwargs):\n",
    "        super().__init__(**kwargs) # handles base args (e.g., dtype)\n",
    "        self.threshold = threshold\n",
    "        self.huber_fn = create_huber(threshold)\n",
    "        self.total = self.add_weight(\"total\", initializer=\"zeros\")\n",
    "        self.count = self.add_weight(\"count\", initializer=\"zeros\")\n",
    "    def update_state(self, y_true, y_pred, sample_weight=None):\n",
    "        metric = self.huber_fn(y_true, y_pred)\n",
    "        self.total.assign_add(tf.reduce_sum(metric))\n",
    "        self.count.assign_add(tf.cast(tf.size(y_true), tf.float32))\n",
    "    def result(self):\n",
    "        return self.total / self.count\n",
    "    def get_config(self):\n",
    "        base_config = super().get_config()\n",
    "        return {**base_config, \"threshold\": self.threshold}\n",
    "    \n",
    "    \n",
    "# Now we can use this as a metric\n",
    "# explanation of the code on page->513"
   ]
  },
  {
   "cell_type": "markdown",
   "id": "ee27a1c0",
   "metadata": {},
   "source": [
    "## Custom Layers"
   ]
  },
  {
   "cell_type": "code",
   "execution_count": 63,
   "id": "205026bf",
   "metadata": {},
   "outputs": [],
   "source": [
    "# First, some layers have no weights, such as keras.layers.Flatten or\n",
    "# keras.layers.ReLU. If you want to create a custom layer without any\n",
    "# weights, the simplest option is to write a function and wrap it in a\n",
    "# keras.layers.Lambda layer. For example, the following layer will apply\n",
    "# the exponential function to its inputs:\n",
    "\n",
    "exponential_layer = keras.layers.Lambda(lambda x: tf.exp(x))"
   ]
  },
  {
   "cell_type": "code",
   "execution_count": 64,
   "id": "de81d610",
   "metadata": {},
   "outputs": [
    {
     "data": {
      "text/plain": [
       "<tf.Tensor: shape=(3,), dtype=float32, numpy=array([0.36787945, 1.        , 2.7182817 ], dtype=float32)>"
      ]
     },
     "execution_count": 64,
     "metadata": {},
     "output_type": "execute_result"
    }
   ],
   "source": [
    "exponential_layer([-1., 0., 1.])"
   ]
  },
  {
   "cell_type": "markdown",
   "id": "7374b754",
   "metadata": {},
   "source": [
    "Adding an exponential layer at the output of a regression model can be useful if the values to predict are positive and with very different scales (e.g., 0.001, 10., 10000):"
   ]
  },
  {
   "cell_type": "code",
   "execution_count": 65,
   "id": "8504929b",
   "metadata": {},
   "outputs": [
    {
     "name": "stdout",
     "output_type": "stream",
     "text": [
      "Epoch 1/5\n",
      "363/363 [==============================] - 1s 2ms/step - loss: 3.3857 - val_loss: 1.4127\n",
      "Epoch 2/5\n",
      "363/363 [==============================] - 1s 2ms/step - loss: 1.1850 - val_loss: 0.8511\n",
      "Epoch 3/5\n",
      "363/363 [==============================] - 1s 2ms/step - loss: 0.7869 - val_loss: 0.5743\n",
      "Epoch 4/5\n",
      "363/363 [==============================] - 1s 2ms/step - loss: 0.5694 - val_loss: 0.4387\n",
      "Epoch 5/5\n",
      "363/363 [==============================] - 1s 2ms/step - loss: 0.4594 - val_loss: 0.3913\n",
      "162/162 [==============================] - 0s 1ms/step - loss: 0.4337\n"
     ]
    },
    {
     "data": {
      "text/plain": [
       "0.43366917967796326"
      ]
     },
     "execution_count": 65,
     "metadata": {},
     "output_type": "execute_result"
    }
   ],
   "source": [
    "model = keras.models.Sequential([\n",
    "    keras.layers.Dense(30, activation=\"relu\", input_shape=input_shape),\n",
    "    keras.layers.Dense(1),\n",
    "    exponential_layer\n",
    "])\n",
    "model.compile(loss=\"mse\", optimizer=\"sgd\")\n",
    "model.fit(X_train_scaled, y_train, epochs=5,\n",
    "          validation_data=(X_valid_scaled, y_valid))\n",
    "model.evaluate(X_test_scaled, y_test)"
   ]
  },
  {
   "cell_type": "code",
   "execution_count": 85,
   "id": "8bbd7610",
   "metadata": {},
   "outputs": [],
   "source": [
    "# This custom layer can then be used like any other layer, using the\n",
    "# Sequential API, the Functional API, or the Subclassing API. You can also\n",
    "# use it as an activation function (or you could use activation=tf.exp,\n",
    "# activation=keras.activations.exponential, or simply\n",
    "# activation=\"exponential\"). The exponential layer is sometimes used in\n",
    "# the output layer of a regression model when the values to predict have\n",
    "# very different scales (e.g., 0.001, 10., 1,000.)."
   ]
  },
  {
   "cell_type": "code",
   "execution_count": 68,
   "id": "f9928f61",
   "metadata": {},
   "outputs": [],
   "source": [
    "# As you’ve probably guessed by now, to build a custom stateful layer (i.e., a\n",
    "# layer with weights), you need to create a subclass of the\n",
    "# keras.layers.Layer class. For example, the following class implements\n",
    "# a simplified version of the Dense layer:\n",
    "\n",
    "class MyDense(keras.layers.Layer):\n",
    "    def __init__(self, units, activation=None, **kwargs):\n",
    "        super().__init__(**kwargs)\n",
    "        self.units = units\n",
    "        self.activation = keras.activations.get(activation)\n",
    "\n",
    "    def build(self, batch_input_shape):\n",
    "        # kernel here is just weights matrix\n",
    "        self.kernel = self.add_weight(\n",
    "            name=\"kernel\", shape=[batch_input_shape[-1], self.units],\n",
    "            initializer=\"glorot_normal\")\n",
    "        self.bias = self.add_weight(\n",
    "            name=\"bias\", shape=[self.units], initializer=\"zeros\")\n",
    "        super().build(batch_input_shape) # must be at the end\n",
    "\n",
    "    def call(self, X):\n",
    "        return self.activation(X @ self.kernel + self.bias)\n",
    "\n",
    "    def compute_output_shape(self, batch_input_shape):\n",
    "        return tf.TensorShape(batch_input_shape.as_list()[:-1] + [self.units])\n",
    "\n",
    "    def get_config(self):\n",
    "        base_config = super().get_config()\n",
    "        return {**base_config, \"units\": self.units,\n",
    "                \"activation\": keras.activations.serialize(self.activation)}\n",
    "\n",
    "# explanation of the code page->515"
   ]
  },
  {
   "cell_type": "code",
   "execution_count": 69,
   "id": "845c2612",
   "metadata": {},
   "outputs": [],
   "source": [
    "keras.backend.clear_session()\n",
    "np.random.seed(42)\n",
    "tf.random.set_seed(42)\n",
    "\n",
    "model = keras.models.Sequential([\n",
    "    MyDense(30, activation=\"relu\", input_shape=input_shape),\n",
    "    MyDense(1)\n",
    "])"
   ]
  },
  {
   "cell_type": "code",
   "execution_count": 70,
   "id": "06988602",
   "metadata": {},
   "outputs": [
    {
     "name": "stdout",
     "output_type": "stream",
     "text": [
      "Epoch 1/2\n",
      "363/363 [==============================] - 1s 2ms/step - loss: 2.2563 - val_loss: 0.9472\n",
      "Epoch 2/2\n",
      "363/363 [==============================] - 1s 2ms/step - loss: 0.6485 - val_loss: 0.6219\n",
      "162/162 [==============================] - 0s 1ms/step - loss: 0.5474\n"
     ]
    },
    {
     "data": {
      "text/plain": [
       "0.5473727583885193"
      ]
     },
     "execution_count": 70,
     "metadata": {},
     "output_type": "execute_result"
    }
   ],
   "source": [
    "model.compile(loss=\"mse\", optimizer=\"nadam\")\n",
    "model.fit(X_train_scaled, y_train, epochs=2,\n",
    "          validation_data=(X_valid_scaled, y_valid))\n",
    "model.evaluate(X_test_scaled, y_test)"
   ]
  },
  {
   "cell_type": "code",
   "execution_count": 71,
   "id": "e2472628",
   "metadata": {},
   "outputs": [],
   "source": [
    "model.save(\"my_model_with_a_custom_layer.h5\")"
   ]
  },
  {
   "cell_type": "code",
   "execution_count": 72,
   "id": "492e19e9",
   "metadata": {},
   "outputs": [],
   "source": [
    "model = keras.models.load_model(\"my_model_with_a_custom_layer.h5\",\n",
    "                                custom_objects={\"MyDense\": MyDense})"
   ]
  },
  {
   "cell_type": "code",
   "execution_count": 74,
   "id": "34c9a789",
   "metadata": {},
   "outputs": [],
   "source": [
    "# To create a layer with multiple inputs(i.e., Concatenate)\n",
    "# For example, the following toy layer takes two inputs and\n",
    "# returns three outputs:\n",
    "\n",
    "class MyMultiLayer(keras.layers.Layer):\n",
    "    def call(self, X):\n",
    "        X1, X2 = X\n",
    "        print(\"X1.shape: \", X1.shape ,\" X2.shape: \", X2.shape) # Debugging of custom layer\n",
    "        return X1 + X2, X1 * X2\n",
    "\n",
    "    def compute_output_shape(self, batch_input_shape):\n",
    "        batch_input_shape1, batch_input_shape2 = batch_input_shape\n",
    "        return [batch_input_shape1, batch_input_shape2]\n",
    "    \n",
    "# This layer may now be used like any other layer, but of course only using\n",
    "# the Functional and Subclassing APIs, not the Sequential API (which only\n",
    "# accepts layers with one input and one output)."
   ]
  },
  {
   "cell_type": "markdown",
   "id": "71a6ab6e",
   "metadata": {},
   "source": [
    "Our custom layer can be called using the functional API like this:"
   ]
  },
  {
   "cell_type": "code",
   "execution_count": 75,
   "id": "efc3adac",
   "metadata": {},
   "outputs": [
    {
     "name": "stdout",
     "output_type": "stream",
     "text": [
      "X1.shape:  (None, 2)  X2.shape:  (None, 2)\n"
     ]
    }
   ],
   "source": [
    "inputs1 = keras.layers.Input(shape=[2])\n",
    "inputs2 = keras.layers.Input(shape=[2])\n",
    "outputs1, outputs2 = MyMultiLayer()((inputs1, inputs2))"
   ]
  },
  {
   "cell_type": "markdown",
   "id": "1f1cd4ab",
   "metadata": {},
   "source": [
    "Note that the `call()` method receives symbolic inputs, whose shape is only partially specified (at this stage, we don't know the batch size, which is why the first dimension is `None`):\n",
    "\n",
    "We can also pass actual data to the custom layer. To test this, let's split each dataset's inputs into two parts, with four features each:"
   ]
  },
  {
   "cell_type": "code",
   "execution_count": 76,
   "id": "9c86d4a3",
   "metadata": {},
   "outputs": [],
   "source": [
    "# If your layer needs to have a different behavior during training and during\n",
    "# testing (e.g., if it uses Dropout or BatchNormalization layers), then you\n",
    "# must add a training argument to the call() method and use this\n",
    "# argument to decide what to do. For example, let’s create a layer that adds\n",
    "# Gaussian noise during training (for regularization) but does nothing during\n",
    "# testing (Keras has a layer that does the same thing,\n",
    "# keras.layers.GaussianNoise):\n",
    "\n",
    "class AddGaussianNoise(keras.layers.Layer):\n",
    "    def __init__(self, stddev, **kwargs):\n",
    "        super().__init__(**kwargs)\n",
    "        self.stddev = stddev\n",
    "\n",
    "    def call(self, X, training=None):\n",
    "        if training:\n",
    "            noise = tf.random.normal(tf.shape(X), stddev=self.stddev)\n",
    "            return X + noise\n",
    "        else:\n",
    "            return X\n",
    "\n",
    "    def compute_output_shape(self, batch_input_shape):\n",
    "        return batch_input_shape"
   ]
  },
  {
   "cell_type": "markdown",
   "id": "b5b5fc30",
   "metadata": {},
   "source": [
    "## Custom Models"
   ]
  },
  {
   "cell_type": "code",
   "execution_count": null,
   "id": "c82700ca",
   "metadata": {},
   "outputs": [],
   "source": [
    "# We want to create a model page->519"
   ]
  },
  {
   "cell_type": "code",
   "execution_count": 77,
   "id": "f6aa0385",
   "metadata": {},
   "outputs": [],
   "source": [
    "class ResidualBlock(keras.layers.Layer):\n",
    "    def __init__(self, n_layers, n_neurons, **kwargs):\n",
    "        super().__init__(**kwargs)\n",
    "        self.hidden = [keras.layers.Dense(n_neurons, activation=\"elu\",\n",
    "                                          kernel_initializer=\"he_normal\")\n",
    "                       for _ in range(n_layers)]\n",
    "\n",
    "    def call(self, inputs):\n",
    "        Z = inputs\n",
    "        for layer in self.hidden:\n",
    "            Z = layer(Z)\n",
    "        return inputs + Z"
   ]
  },
  {
   "cell_type": "markdown",
   "id": "5a862e19",
   "metadata": {},
   "source": [
    "This layer is a bit special since it contains other layers. This is handled\n",
    "transparently by Keras: it automatically detects that the hidden attribute\n",
    "contains trackable objects (layers in this case), so their variables are\n",
    "automatically added to this layer’s list of variables. The rest of this class is\n",
    "self-explanatory. Next, let’s use the Subclassing API to define the model\n",
    "itself:"
   ]
  },
  {
   "cell_type": "code",
   "execution_count": 78,
   "id": "99109e73",
   "metadata": {},
   "outputs": [],
   "source": [
    "class ResidualRegressor(keras.models.Model):\n",
    "    def __init__(self, output_dim, **kwargs):\n",
    "        super().__init__(**kwargs)\n",
    "        self.hidden1 = keras.layers.Dense(30, activation=\"elu\",\n",
    "                                          kernel_initializer=\"he_normal\")\n",
    "        self.block1 = ResidualBlock(2, 30)\n",
    "        self.block2 = ResidualBlock(2, 30)\n",
    "        self.out = keras.layers.Dense(output_dim)\n",
    "\n",
    "    def call(self, inputs):\n",
    "        Z = self.hidden1(inputs)\n",
    "        for _ in range(1 + 3):\n",
    "            Z = self.block1(Z)\n",
    "        Z = self.block2(Z)\n",
    "        return self.out(Z)"
   ]
  },
  {
   "cell_type": "markdown",
   "id": "b6c66821",
   "metadata": {},
   "source": [
    "We create the layers in the constructor and use them in the call()\n",
    "method. This model can then be used like any other model (compile it, fit\n",
    "it, evaluate it, and use it to make predictions). If you also want to be able\n",
    "to save the model using the save() method and load it using the\n",
    "keras.models.load_model() function, you must implement the\n",
    "get_config() method (as we did earlier) in both the ResidualBlock\n",
    "class and the ResidualRegressor class. Alternatively, you can save and\n",
    "load the weights using the save_weights() and load_weights()\n",
    "methods."
   ]
  },
  {
   "cell_type": "code",
   "execution_count": 80,
   "id": "c2e91b2c",
   "metadata": {},
   "outputs": [],
   "source": [
    "model = ResidualRegressor(1)\n",
    "model.compile(loss=\"mse\", optimizer=\"nadam\")\n",
    "history = model.fit(X_train_scaled, y_train, epochs=5)\n",
    "score = model.evaluate(X_test_scaled, y_test)\n",
    "y_pred = model.predict(X_new_scaled)"
   ]
  },
  {
   "cell_type": "code",
   "execution_count": 81,
   "id": "e0204f39",
   "metadata": {},
   "outputs": [
    {
     "name": "stderr",
     "output_type": "stream",
     "text": [
      "WARNING:absl:Found untraced functions such as dense_1_layer_call_fn, dense_1_layer_call_and_return_conditional_losses, dense_2_layer_call_fn, dense_2_layer_call_and_return_conditional_losses, dense_3_layer_call_fn while saving (showing 5 of 8). These functions will not be directly callable after loading.\n"
     ]
    },
    {
     "name": "stdout",
     "output_type": "stream",
     "text": [
      "INFO:tensorflow:Assets written to: my_custom_model.ckpt\\assets\n"
     ]
    },
    {
     "name": "stderr",
     "output_type": "stream",
     "text": [
      "INFO:tensorflow:Assets written to: my_custom_model.ckpt\\assets\n"
     ]
    }
   ],
   "source": [
    "model.save(\"my_custom_model.ckpt\")"
   ]
  },
  {
   "cell_type": "code",
   "execution_count": 82,
   "id": "02e1d822",
   "metadata": {},
   "outputs": [],
   "source": [
    "# skipped everything in between \n",
    "# this is too complex and advance for now.. "
   ]
  },
  {
   "cell_type": "markdown",
   "id": "51f58507",
   "metadata": {},
   "source": [
    "# TensorFlow Function and Graphs"
   ]
  },
  {
   "cell_type": "code",
   "execution_count": 83,
   "id": "d4535e2d",
   "metadata": {},
   "outputs": [],
   "source": [
    "def cube(x):\n",
    "    return x ** 3"
   ]
  },
  {
   "cell_type": "code",
   "execution_count": 85,
   "id": "a6333f4a",
   "metadata": {},
   "outputs": [
    {
     "data": {
      "text/plain": [
       "(8, <tf.Tensor: shape=(), dtype=float32, numpy=8.0>)"
      ]
     },
     "execution_count": 85,
     "metadata": {},
     "output_type": "execute_result"
    }
   ],
   "source": [
    "cube(2), cube(tf.constant(2.0))"
   ]
  },
  {
   "cell_type": "code",
   "execution_count": 86,
   "id": "10eaa57c",
   "metadata": {},
   "outputs": [],
   "source": [
    "tf_cube = tf.function(cube)"
   ]
  },
  {
   "cell_type": "code",
   "execution_count": 88,
   "id": "fd3010d0",
   "metadata": {},
   "outputs": [
    {
     "data": {
      "text/plain": [
       "<tensorflow.python.eager.def_function.Function at 0x1ccc6bdac70>"
      ]
     },
     "execution_count": 88,
     "metadata": {},
     "output_type": "execute_result"
    }
   ],
   "source": [
    "tf_cube"
   ]
  },
  {
   "cell_type": "code",
   "execution_count": 90,
   "id": "a8633830",
   "metadata": {},
   "outputs": [],
   "source": [
    "# Under the hood, tf.function() analyzed the computations performed by\n",
    "# the cube() function and generated an equivalent computation graph! As\n",
    "# you can see, it was rather painless (we will see how this works shortly).\n",
    "# Alternatively, we could have used tf.function as a decorator; this is\n",
    "# actually more common:\n",
    "\n",
    "@tf.function\n",
    "def tf_cube(x):\n",
    "    return x ** 3"
   ]
  },
  {
   "cell_type": "code",
   "execution_count": 93,
   "id": "24ca9c11",
   "metadata": {},
   "outputs": [
    {
     "data": {
      "text/plain": [
       "(8, <tf.Tensor: shape=(), dtype=int32, numpy=8>)"
      ]
     },
     "execution_count": 93,
     "metadata": {},
     "output_type": "execute_result"
    }
   ],
   "source": [
    "# The original Python function is still available via the TF Function’s\n",
    "# python_function attribute, in case you ever need it:\n",
    "\n",
    "tf_cube.python_function(2), tf_cube(2)"
   ]
  },
  {
   "cell_type": "code",
   "execution_count": 94,
   "id": "d7709361",
   "metadata": {},
   "outputs": [],
   "source": [
    "# skipped too complex ig... shift to pytorch as soon as possible ig.."
   ]
  },
  {
   "cell_type": "code",
   "execution_count": null,
   "id": "acea566c",
   "metadata": {},
   "outputs": [],
   "source": []
  },
  {
   "cell_type": "code",
   "execution_count": null,
   "id": "a4725f0b",
   "metadata": {},
   "outputs": [],
   "source": []
  },
  {
   "cell_type": "code",
   "execution_count": null,
   "id": "8cd6279c",
   "metadata": {},
   "outputs": [],
   "source": []
  },
  {
   "cell_type": "code",
   "execution_count": null,
   "id": "a128cddc",
   "metadata": {},
   "outputs": [],
   "source": []
  },
  {
   "cell_type": "code",
   "execution_count": null,
   "id": "42dddbd8",
   "metadata": {},
   "outputs": [],
   "source": []
  },
  {
   "cell_type": "code",
   "execution_count": null,
   "id": "e6f15513",
   "metadata": {},
   "outputs": [],
   "source": []
  },
  {
   "cell_type": "code",
   "execution_count": null,
   "id": "637b237a",
   "metadata": {},
   "outputs": [],
   "source": []
  },
  {
   "cell_type": "code",
   "execution_count": null,
   "id": "e2ba339e",
   "metadata": {},
   "outputs": [],
   "source": []
  },
  {
   "cell_type": "code",
   "execution_count": null,
   "id": "ff24ce5c",
   "metadata": {},
   "outputs": [],
   "source": []
  },
  {
   "cell_type": "code",
   "execution_count": null,
   "id": "3697c293",
   "metadata": {},
   "outputs": [],
   "source": []
  },
  {
   "cell_type": "code",
   "execution_count": null,
   "id": "2187271e",
   "metadata": {},
   "outputs": [],
   "source": []
  },
  {
   "cell_type": "code",
   "execution_count": null,
   "id": "c3509b32",
   "metadata": {},
   "outputs": [],
   "source": []
  },
  {
   "cell_type": "code",
   "execution_count": null,
   "id": "7588dc2e",
   "metadata": {},
   "outputs": [],
   "source": []
  },
  {
   "cell_type": "code",
   "execution_count": null,
   "id": "863e3428",
   "metadata": {},
   "outputs": [],
   "source": []
  },
  {
   "cell_type": "code",
   "execution_count": null,
   "id": "c37d2378",
   "metadata": {},
   "outputs": [],
   "source": []
  },
  {
   "cell_type": "code",
   "execution_count": null,
   "id": "c2be66ee",
   "metadata": {},
   "outputs": [],
   "source": []
  },
  {
   "cell_type": "code",
   "execution_count": null,
   "id": "aa15f4b2",
   "metadata": {},
   "outputs": [],
   "source": []
  },
  {
   "cell_type": "code",
   "execution_count": null,
   "id": "3159e6cd",
   "metadata": {},
   "outputs": [],
   "source": []
  },
  {
   "cell_type": "code",
   "execution_count": null,
   "id": "9cbdd48e",
   "metadata": {},
   "outputs": [],
   "source": []
  },
  {
   "cell_type": "code",
   "execution_count": null,
   "id": "b088bb24",
   "metadata": {},
   "outputs": [],
   "source": []
  },
  {
   "cell_type": "code",
   "execution_count": null,
   "id": "be3de2ed",
   "metadata": {},
   "outputs": [],
   "source": []
  },
  {
   "cell_type": "code",
   "execution_count": null,
   "id": "e01f142e",
   "metadata": {},
   "outputs": [],
   "source": []
  },
  {
   "cell_type": "code",
   "execution_count": null,
   "id": "12c44371",
   "metadata": {},
   "outputs": [],
   "source": []
  },
  {
   "cell_type": "code",
   "execution_count": null,
   "id": "44937f8c",
   "metadata": {},
   "outputs": [],
   "source": []
  },
  {
   "cell_type": "code",
   "execution_count": null,
   "id": "bde34052",
   "metadata": {},
   "outputs": [],
   "source": []
  },
  {
   "cell_type": "code",
   "execution_count": null,
   "id": "2f8e23fc",
   "metadata": {},
   "outputs": [],
   "source": []
  }
 ],
 "metadata": {
  "kernelspec": {
   "display_name": "Python 3 (ipykernel)",
   "language": "python",
   "name": "python3"
  },
  "language_info": {
   "codemirror_mode": {
    "name": "ipython",
    "version": 3
   },
   "file_extension": ".py",
   "mimetype": "text/x-python",
   "name": "python",
   "nbconvert_exporter": "python",
   "pygments_lexer": "ipython3",
   "version": "3.9.0"
  }
 },
 "nbformat": 4,
 "nbformat_minor": 5
}
